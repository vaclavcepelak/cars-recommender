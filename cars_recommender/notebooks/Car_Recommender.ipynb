{
 "cells": [
  {
   "cell_type": "markdown",
   "id": "31bc597f-8627-4ab8-9ad6-d7cb6c2e7531",
   "metadata": {},
   "source": [
    "# Recommender system Case Study\n",
    "\n",
    "You are part of a team that has to build a recommender engine for used cars. The\n",
    "recommender engine will be used by many branches in different parts of the world\n",
    "independently. The recommender results will be presented to potential buyers in form of an\n",
    "interactive website.\n",
    "\n",
    "You surely know the best what are your areas of expertise and what would you want to do with\n",
    "this project, but down below are some ideas for inspiration what you can focus on. ( Please\n",
    "try to focus on things you are best in. Omit parts you do not have an expertise in. )\n",
    "\n",
    "**Data engineering / Data science**\n",
    "- make some exploratory data analysis with the data to extract information more valuable\n",
    "than only the basics present in the original dataset\n",
    "- prepare a data pipeline to automatically download, preprocess and extract features from\n",
    "the dataset\n",
    "- prepare a model to recommend similar cars on the web page with aim at maximizing\n",
    "profit and a reasonable user experience\n",
    "- suggest a ML Ops solution to handle model training every day from new data, checking\n",
    "data drift, concept drift, correct data types"
   ]
  },
  {
   "cell_type": "markdown",
   "id": "0e448435-84dc-40e6-b730-3b3ed4fd0be9",
   "metadata": {},
   "source": [
    "## Imports"
   ]
  },
  {
   "cell_type": "code",
   "execution_count": 1,
   "id": "f820aeb9-9116-4f40-8230-92628dbb04e0",
   "metadata": {
    "ExecuteTime": {
     "end_time": "2023-08-28T23:09:50.549399Z",
     "start_time": "2023-08-28T23:09:48.305290Z"
    }
   },
   "outputs": [],
   "source": [
    "# to install all libraries run `pip install -r requirements.txt`\n",
    "%load_ext autoreload\n",
    "%autoreload 2\n",
    "\n",
    "import sys\n",
    "\n",
    "sys.path.append(\"/Users/vaclavcepelak/PycharmProjects/cars-recommender\")\n",
    "\n",
    "import os\n",
    "import re\n",
    "from urllib.request import urlopen\n",
    "\n",
    "import numpy as np\n",
    "import pandas as pd\n",
    "import polars as pl\n",
    "from bs4 import BeautifulSoup\n",
    "\n",
    "%matplotlib inline\n",
    "from matplotlib import pyplot as plt\n",
    "from sklearn.compose import ColumnTransformer\n",
    "from sklearn.linear_model import Lasso\n",
    "from sklearn.model_selection import GridSearchCV, train_test_split\n",
    "from sklearn.neighbors import NearestNeighbors\n",
    "from sklearn.pipeline import Pipeline\n",
    "from sklearn.preprocessing import OneHotEncoder, StandardScaler\n",
    "from unidecode import unidecode\n",
    "# Note: run `pip install --upgrade Pillow` to be sure the library works correctly\n",
    "from ydata_profiling import ProfileReport\n",
    "\n",
    "from cars_recommender.src.helpers import (get_country_data, get_feature_names,\n",
    "                                          plot_hist)"
   ]
  },
  {
   "cell_type": "markdown",
   "id": "57edf554-f2d9-4f19-85f0-900a01c33a50",
   "metadata": {},
   "source": [
    "## Data load"
   ]
  },
  {
   "cell_type": "code",
   "execution_count": 2,
   "id": "7257ac21-ca29-4b64-a71f-bb565a869238",
   "metadata": {
    "ExecuteTime": {
     "end_time": "2023-08-28T23:09:52.266860Z",
     "start_time": "2023-08-28T23:09:50.549875Z"
    }
   },
   "outputs": [
    {
     "name": "stdout",
     "output_type": "stream",
     "text": [
      "Warning: Your Kaggle API key is readable by other users on this system! To fix this, you can run 'chmod 600 /Users/vaclavcepelak/.kaggle/kaggle.json'\n",
      "Downloading vehicle-dataset-from-cardekho.zip to ../data/external\n"
     ]
    },
    {
     "name": "stderr",
     "output_type": "stream",
     "text": [
      "  0%|          | 0.00/292k [00:00<?, ?B/s]"
     ]
    },
    {
     "name": "stdout",
     "output_type": "stream",
     "text": []
    },
    {
     "name": "stderr",
     "output_type": "stream",
     "text": [
      "100%|██████████| 292k/292k [00:00<00:00, 903kB/s]\n"
     ]
    },
    {
     "data": {
      "text/plain": "0"
     },
     "execution_count": 2,
     "metadata": {},
     "output_type": "execute_result"
    }
   ],
   "source": [
    "# download dataset via Kaggle API\n",
    "# https://towardsdatascience.com/how-to-search-and-download-data-using-kaggle-api-f815f7b98080\n",
    "os.system(\n",
    "    \"kaggle datasets download -d nehalbirla/vehicle-dataset-from-cardekho -p ../data/external/ --unzip\"\n",
    ")"
   ]
  },
  {
   "cell_type": "code",
   "execution_count": 3,
   "id": "f6313391-7dd3-4a56-9560-3e24156fc656",
   "metadata": {
    "ExecuteTime": {
     "end_time": "2023-08-28T23:09:53.401256Z",
     "start_time": "2023-08-28T23:09:52.265781Z"
    }
   },
   "outputs": [
    {
     "name": "stdout",
     "output_type": "stream",
     "text": [
      "Warning: Your Kaggle API key is readable by other users on this system! To fix this, you can run 'chmod 600 /Users/vaclavcepelak/.kaggle/kaggle.json'\n",
      "Downloading 2023-car-model-dataset-all-data-you-need.zip to ./data\n"
     ]
    },
    {
     "name": "stderr",
     "output_type": "stream",
     "text": [
      "100%|██████████| 12.0k/12.0k [00:00<00:00, 14.2MB/s]\n"
     ]
    },
    {
     "data": {
      "text/plain": "0"
     },
     "execution_count": 3,
     "metadata": {},
     "output_type": "execute_result"
    }
   ],
   "source": [
    "# download the car models data via Kaggle API\n",
    "os.system(\n",
    "    \"kaggle datasets download -d peshimaammuzammil/2023-car-model-dataset-all-data-you-need -p ./data/ --unzip\"\n",
    ")"
   ]
  },
  {
   "cell_type": "code",
   "execution_count": 4,
   "id": "f9fd2543-64ac-454a-ba4b-65bb1ec0cd2b",
   "metadata": {
    "ExecuteTime": {
     "end_time": "2023-08-28T23:09:53.452921Z",
     "start_time": "2023-08-28T23:09:53.398923Z"
    }
   },
   "outputs": [
    {
     "data": {
      "text/plain": "['car data.csv',\n '.gitkeep',\n 'CAR DETAILS FROM CAR DEKHO.csv',\n 'car details v4.csv',\n 'Car details v3.csv']"
     },
     "execution_count": 4,
     "metadata": {},
     "output_type": "execute_result"
    }
   ],
   "source": [
    "# list files downloaded\n",
    "os.listdir(\"../data/external/\")"
   ]
  },
  {
   "cell_type": "markdown",
   "id": "02f7add4-d3f4-48c0-b9a4-b89b5f9a29b3",
   "metadata": {},
   "source": [
    "\n",
    "For the purpose of the demo, the file `Car details v3.csv` is used:\n",
    "- The files `car data.csv` and `CAR DETAILS FROM CAR DEKHO.csv` contain very small set of features\n",
    "- The file `car details v4.csv` has some additional features but the sample is smaller.\n",
    "\n"
   ]
  },
  {
   "cell_type": "markdown",
   "id": "716d66e8-cddb-49ae-8434-c20f9f1eb623",
   "metadata": {},
   "source": [
    "## Data preparation"
   ]
  },
  {
   "cell_type": "markdown",
   "id": "26d1b9b5-db0f-4648-8659-6b247e9472f6",
   "metadata": {},
   "source": [
    "### Cars data"
   ]
  },
  {
   "cell_type": "code",
   "execution_count": 5,
   "id": "376f4edf-80d7-44b3-a8f8-43a564defffc",
   "metadata": {
    "scrolled": true,
    "ExecuteTime": {
     "end_time": "2023-08-28T23:09:53.495690Z",
     "start_time": "2023-08-28T23:09:53.430969Z"
    }
   },
   "outputs": [],
   "source": [
    "df_cars = pl.read_csv(\"../data/external/Car details v3.csv\").with_columns(\n",
    "    [\n",
    "        # assign brand of the car\n",
    "        pl.col(\"name\").str.extract(r\"^(\\b\\w+\\b) (.*)$\", 1).alias(\"company\"),\n",
    "        pl.col(\"name\").str.extract(r\"^(\\b\\w+\\b) (.*)$\", 2).alias(\"model\"),\n",
    "        # cast mileage to float\n",
    "        pl.col(\"mileage\")\n",
    "        .str.extract(r\"^([0-9\\.]+) (.+)$\", 1)\n",
    "        .cast(pl.Float32)\n",
    "        .alias(\"mileage_num\"),\n",
    "        pl.col(\"mileage\").str.extract(r\"^([0-9\\.]+) (.+)$\", 2).alias(\"mileage_unit\"),\n",
    "        # cast engine vol\n",
    "        pl.col(\"engine\")\n",
    "        .str.extract(r\"^([0-9]+) (.+)$\", 1)\n",
    "        .cast(pl.Int32)\n",
    "        .alias(\"engine_vol_num\"),\n",
    "        pl.col(\"engine\").str.extract(r\"^([0-9]+) (.+)$\", 2).alias(\"engine_vol_unit\"),\n",
    "        # cast max power to float\n",
    "        pl.col(\"max_power\")\n",
    "        .str.extract(r\"^([0-9\\.]+) (.+$)\", 1)\n",
    "        .cast(pl.Float32)\n",
    "        .alias(\"max_power_num\"),\n",
    "        pl.col(\"max_power\")\n",
    "        .str.extract(r\"^([0-9\\.]+) (.+$)\", 2)\n",
    "        .alias(\"max_power_unit\"),\n",
    "        # compute car age (max(year) - year)\n",
    "        (pl.col(\"year\").max() - pl.col(\"year\")).alias(\"car_age\"),\n",
    "    ]\n",
    ")"
   ]
  },
  {
   "cell_type": "code",
   "execution_count": 6,
   "id": "2ff631e1-290b-4ad6-97d9-493bccbd7f55",
   "metadata": {
    "ExecuteTime": {
     "end_time": "2023-08-28T23:09:53.503074Z",
     "start_time": "2023-08-28T23:09:53.468221Z"
    }
   },
   "outputs": [
    {
     "data": {
      "text/plain": "(8128, 22)"
     },
     "execution_count": 6,
     "metadata": {},
     "output_type": "execute_result"
    }
   ],
   "source": [
    "# 8128 rows\n",
    "df_cars.shape"
   ]
  },
  {
   "cell_type": "code",
   "execution_count": 7,
   "id": "c0efaa16-10c2-4c67-94a8-9cc49cf5445d",
   "metadata": {
    "ExecuteTime": {
     "end_time": "2023-08-28T23:09:53.537692Z",
     "start_time": "2023-08-28T23:09:53.496521Z"
    }
   },
   "outputs": [
    {
     "data": {
      "text/plain": "(7852, 22)"
     },
     "execution_count": 7,
     "metadata": {},
     "output_type": "execute_result"
    }
   ],
   "source": [
    "# get only complete cases for the purpose of demo (7906)\n",
    "# TODO: prepare a solution for incomplete cases\n",
    "df_cars = df_cars.filter(~pl.any_horizontal(pl.col(\"*\").is_null()))\n",
    "df_cars.shape"
   ]
  },
  {
   "cell_type": "code",
   "execution_count": 8,
   "id": "f07452bc-5a26-4daa-9070-6222e5506888",
   "metadata": {
    "ExecuteTime": {
     "end_time": "2023-08-28T23:09:53.555930Z",
     "start_time": "2023-08-28T23:09:53.526733Z"
    }
   },
   "outputs": [
    {
     "data": {
      "text/plain": "shape: (5, 22)\n┌─────────────┬──────┬────────────┬───────────┬───┬────────────┬────────────┬────────────┬─────────┐\n│ name        ┆ year ┆ selling_pr ┆ km_driven ┆ … ┆ engine_vol ┆ max_power_ ┆ max_power_ ┆ car_age │\n│ ---         ┆ ---  ┆ ice        ┆ ---       ┆   ┆ _unit      ┆ num        ┆ unit       ┆ ---     │\n│ str         ┆ i64  ┆ ---        ┆ i64       ┆   ┆ ---        ┆ ---        ┆ ---        ┆ i64     │\n│             ┆      ┆ i64        ┆           ┆   ┆ str        ┆ f32        ┆ str        ┆         │\n╞═════════════╪══════╪════════════╪═══════════╪═══╪════════════╪════════════╪════════════╪═════════╡\n│ Maruti      ┆ 2014 ┆ 450000     ┆ 145500    ┆ … ┆ CC         ┆ 74.0       ┆ bhp        ┆ 6       │\n│ Swift Dzire ┆      ┆            ┆           ┆   ┆            ┆            ┆            ┆         │\n│ VDI         ┆      ┆            ┆           ┆   ┆            ┆            ┆            ┆         │\n│ Skoda Rapid ┆ 2014 ┆ 370000     ┆ 120000    ┆ … ┆ CC         ┆ 103.519997 ┆ bhp        ┆ 6       │\n│ 1.5 TDI     ┆      ┆            ┆           ┆   ┆            ┆            ┆            ┆         │\n│ Ambition    ┆      ┆            ┆           ┆   ┆            ┆            ┆            ┆         │\n│ Honda City  ┆ 2006 ┆ 158000     ┆ 140000    ┆ … ┆ CC         ┆ 78.0       ┆ bhp        ┆ 14      │\n│ 2017-2020   ┆      ┆            ┆           ┆   ┆            ┆            ┆            ┆         │\n│ EXi         ┆      ┆            ┆           ┆   ┆            ┆            ┆            ┆         │\n│ Hyundai i20 ┆ 2010 ┆ 225000     ┆ 127000    ┆ … ┆ CC         ┆ 90.0       ┆ bhp        ┆ 10      │\n│ Sportz      ┆      ┆            ┆           ┆   ┆            ┆            ┆            ┆         │\n│ Diesel      ┆      ┆            ┆           ┆   ┆            ┆            ┆            ┆         │\n│ Maruti      ┆ 2007 ┆ 130000     ┆ 120000    ┆ … ┆ CC         ┆ 88.199997  ┆ bhp        ┆ 13      │\n│ Swift VXI   ┆      ┆            ┆           ┆   ┆            ┆            ┆            ┆         │\n│ BSIII       ┆      ┆            ┆           ┆   ┆            ┆            ┆            ┆         │\n└─────────────┴──────┴────────────┴───────────┴───┴────────────┴────────────┴────────────┴─────────┘",
      "text/html": "<div><style>\n.dataframe > thead > tr > th,\n.dataframe > tbody > tr > td {\n  text-align: right;\n}\n</style>\n<small>shape: (5, 22)</small><table border=\"1\" class=\"dataframe\"><thead><tr><th>name</th><th>year</th><th>selling_price</th><th>km_driven</th><th>fuel</th><th>seller_type</th><th>transmission</th><th>owner</th><th>mileage</th><th>engine</th><th>max_power</th><th>torque</th><th>seats</th><th>company</th><th>model</th><th>mileage_num</th><th>mileage_unit</th><th>engine_vol_num</th><th>engine_vol_unit</th><th>max_power_num</th><th>max_power_unit</th><th>car_age</th></tr><tr><td>str</td><td>i64</td><td>i64</td><td>i64</td><td>str</td><td>str</td><td>str</td><td>str</td><td>str</td><td>str</td><td>str</td><td>str</td><td>i64</td><td>str</td><td>str</td><td>f32</td><td>str</td><td>i32</td><td>str</td><td>f32</td><td>str</td><td>i64</td></tr></thead><tbody><tr><td>&quot;Maruti Swift D…</td><td>2014</td><td>450000</td><td>145500</td><td>&quot;Diesel&quot;</td><td>&quot;Individual&quot;</td><td>&quot;Manual&quot;</td><td>&quot;First Owner&quot;</td><td>&quot;23.4 kmpl&quot;</td><td>&quot;1248 CC&quot;</td><td>&quot;74 bhp&quot;</td><td>&quot;190Nm@ 2000rpm…</td><td>5</td><td>&quot;Maruti&quot;</td><td>&quot;Swift Dzire VD…</td><td>23.4</td><td>&quot;kmpl&quot;</td><td>1248</td><td>&quot;CC&quot;</td><td>74.0</td><td>&quot;bhp&quot;</td><td>6</td></tr><tr><td>&quot;Skoda Rapid 1.…</td><td>2014</td><td>370000</td><td>120000</td><td>&quot;Diesel&quot;</td><td>&quot;Individual&quot;</td><td>&quot;Manual&quot;</td><td>&quot;Second Owner&quot;</td><td>&quot;21.14 kmpl&quot;</td><td>&quot;1498 CC&quot;</td><td>&quot;103.52 bhp&quot;</td><td>&quot;250Nm@ 1500-25…</td><td>5</td><td>&quot;Skoda&quot;</td><td>&quot;Rapid 1.5 TDI …</td><td>21.139999</td><td>&quot;kmpl&quot;</td><td>1498</td><td>&quot;CC&quot;</td><td>103.519997</td><td>&quot;bhp&quot;</td><td>6</td></tr><tr><td>&quot;Honda City 201…</td><td>2006</td><td>158000</td><td>140000</td><td>&quot;Petrol&quot;</td><td>&quot;Individual&quot;</td><td>&quot;Manual&quot;</td><td>&quot;Third Owner&quot;</td><td>&quot;17.7 kmpl&quot;</td><td>&quot;1497 CC&quot;</td><td>&quot;78 bhp&quot;</td><td>&quot;12.7@ 2,700(kg…</td><td>5</td><td>&quot;Honda&quot;</td><td>&quot;City 2017-2020…</td><td>17.700001</td><td>&quot;kmpl&quot;</td><td>1497</td><td>&quot;CC&quot;</td><td>78.0</td><td>&quot;bhp&quot;</td><td>14</td></tr><tr><td>&quot;Hyundai i20 Sp…</td><td>2010</td><td>225000</td><td>127000</td><td>&quot;Diesel&quot;</td><td>&quot;Individual&quot;</td><td>&quot;Manual&quot;</td><td>&quot;First Owner&quot;</td><td>&quot;23.0 kmpl&quot;</td><td>&quot;1396 CC&quot;</td><td>&quot;90 bhp&quot;</td><td>&quot;22.4 kgm at 17…</td><td>5</td><td>&quot;Hyundai&quot;</td><td>&quot;i20 Sportz Die…</td><td>23.0</td><td>&quot;kmpl&quot;</td><td>1396</td><td>&quot;CC&quot;</td><td>90.0</td><td>&quot;bhp&quot;</td><td>10</td></tr><tr><td>&quot;Maruti Swift V…</td><td>2007</td><td>130000</td><td>120000</td><td>&quot;Petrol&quot;</td><td>&quot;Individual&quot;</td><td>&quot;Manual&quot;</td><td>&quot;First Owner&quot;</td><td>&quot;16.1 kmpl&quot;</td><td>&quot;1298 CC&quot;</td><td>&quot;88.2 bhp&quot;</td><td>&quot;11.5@ 4,500(kg…</td><td>5</td><td>&quot;Maruti&quot;</td><td>&quot;Swift VXI BSII…</td><td>16.1</td><td>&quot;kmpl&quot;</td><td>1298</td><td>&quot;CC&quot;</td><td>88.199997</td><td>&quot;bhp&quot;</td><td>13</td></tr></tbody></table></div>"
     },
     "execution_count": 8,
     "metadata": {},
     "output_type": "execute_result"
    }
   ],
   "source": [
    "df_cars.head(5)"
   ]
  },
  {
   "cell_type": "markdown",
   "id": "b0ea63b4-d1ef-4bee-8dde-eea95c16787d",
   "metadata": {},
   "source": [
    "### Additional sources\n",
    "\n",
    "Scrape a Wikipedia page to get country of origin for each car manufacturer"
   ]
  },
  {
   "cell_type": "code",
   "execution_count": 9,
   "id": "ab9195c5-f56e-49ad-aa3f-265dee11170c",
   "metadata": {
    "ExecuteTime": {
     "end_time": "2023-08-28T23:09:54.223257Z",
     "start_time": "2023-08-28T23:09:53.555693Z"
    }
   },
   "outputs": [],
   "source": [
    "# Specify url of the web page\n",
    "source = urlopen(\"https://en.wikipedia.org/wiki/List_of_car_brands\").read()\n",
    "# Make a soup\n",
    "soup = BeautifulSoup(source, \"lxml\")"
   ]
  },
  {
   "cell_type": "code",
   "execution_count": 10,
   "id": "a40c7bc2-5c7b-4822-83b3-64605e0c0041",
   "metadata": {
    "ExecuteTime": {
     "end_time": "2023-08-28T23:09:54.263177Z",
     "start_time": "2023-08-28T23:09:54.207750Z"
    }
   },
   "outputs": [],
   "source": [
    "data = []\n",
    "\n",
    "for h in soup.select(\"h2:has(~ul)\"):\n",
    "    if \"See also\" not in h.text:\n",
    "        country = h.text.split(\"[\")[0]\n",
    "        for tag in h.next_siblings:\n",
    "            if (tag.name == \"ul\") or (\n",
    "                tag.name == \"div\" and len(tag.text.split(\"\\n\")) >= 5\n",
    "            ):\n",
    "                for x in tag.text.split(\"\\n\"):\n",
    "                    if x != \"\":\n",
    "                        # remove brackets\n",
    "                        company = re.sub(\n",
    "                            r\"\\[[^\\]]*\\]|\\([^\\)]*\\)\", \"\", x.split(\"[\")[0]\n",
    "                        ).rstrip()\n",
    "                        data.append({\"company\": company, \"country\": country})\n",
    "            elif tag.name == \"h2\":\n",
    "                break"
   ]
  },
  {
   "cell_type": "code",
   "execution_count": 11,
   "id": "08485f18-cab9-49c3-810b-2b43cfd5cd07",
   "metadata": {
    "ExecuteTime": {
     "end_time": "2023-08-28T23:09:54.297493Z",
     "start_time": "2023-08-28T23:09:54.265667Z"
    }
   },
   "outputs": [],
   "source": [
    "unique_countries = set([d[\"country\"] for d in data])"
   ]
  },
  {
   "cell_type": "code",
   "execution_count": 12,
   "id": "e3c1373f-f5b0-41f5-a74b-f18bcef7a849",
   "metadata": {
    "ExecuteTime": {
     "end_time": "2023-08-28T23:09:56.088944Z",
     "start_time": "2023-08-28T23:09:54.293213Z"
    }
   },
   "outputs": [],
   "source": [
    "country_data = [get_country_data(country) for country in unique_countries]"
   ]
  },
  {
   "cell_type": "code",
   "execution_count": 13,
   "id": "4728eb60-ab9b-49df-ab3f-3aabff8e583b",
   "metadata": {
    "ExecuteTime": {
     "end_time": "2023-08-28T23:09:56.121670Z",
     "start_time": "2023-08-28T23:09:56.090484Z"
    }
   },
   "outputs": [],
   "source": [
    "df_country = (\n",
    "    pl.DataFrame(data)\n",
    "    .join(pl.DataFrame(country_data), how=\"left\", on=\"country\")\n",
    "    .with_columns(\n",
    "        pl.col(\"company\").alias(\"company_orig\"),\n",
    "        pl.col(\"company\")\n",
    "        .str.extract(r\"^(\\b\\w+\\b)( (.*))*$\", 1)\n",
    "        .apply(lambda x: unidecode(x)),  # .alias('company_clean'),\n",
    "    )\n",
    "    .sort(\n",
    "        \"company_orig\"\n",
    "    )  # there are duplicates like Chevrolet (US) and Chevrolet Korea (South Korea)\n",
    "    .unique(subset=\"company\")\n",
    ")"
   ]
  },
  {
   "cell_type": "markdown",
   "id": "4b539109-d311-474e-ab6f-f88f0b869ad3",
   "metadata": {},
   "source": [
    "## Data cleaning"
   ]
  },
  {
   "cell_type": "code",
   "execution_count": 14,
   "id": "d1284123-34e6-42a7-ba0d-bc993fb764d2",
   "metadata": {
    "ExecuteTime": {
     "end_time": "2023-08-28T23:09:56.155863Z",
     "start_time": "2023-08-28T23:09:56.127301Z"
    }
   },
   "outputs": [],
   "source": [
    "columns = [\n",
    "    \"company\",\n",
    "    \"model\",\n",
    "    \"year\",\n",
    "    \"car_age\",\n",
    "    \"selling_price\",\n",
    "    \"km_driven\",\n",
    "    \"seats\",\n",
    "    \"seller_type\",\n",
    "    \"fuel\",\n",
    "    \"transmission\",\n",
    "    \"owner\",\n",
    "    \"mileage_num\",\n",
    "    \"engine_vol_num\",\n",
    "    \"max_power_num\",\n",
    "    \"country\",\n",
    "    \"region\",\n",
    "    \"capital_gps_lat\",\n",
    "    \"capital_gps_lng\",\n",
    "]"
   ]
  },
  {
   "cell_type": "code",
   "execution_count": 15,
   "id": "f1801c51-9645-4970-81cc-9e8bf849a9ba",
   "metadata": {
    "ExecuteTime": {
     "end_time": "2023-08-28T23:09:56.176151Z",
     "start_time": "2023-08-28T23:09:56.151012Z"
    }
   },
   "outputs": [],
   "source": [
    "df = df_cars.join(df_country, on=\"company\", how=\"left\").select(columns)"
   ]
  },
  {
   "cell_type": "code",
   "execution_count": 16,
   "id": "e7e65a56-9284-477c-acfb-6a12cac629c7",
   "metadata": {
    "ExecuteTime": {
     "end_time": "2023-08-28T23:09:56.203835Z",
     "start_time": "2023-08-28T23:09:56.177063Z"
    }
   },
   "outputs": [
    {
     "data": {
      "text/plain": "shape: (5, 18)\n┌─────────┬──────────────┬──────┬─────────┬───┬──────────────┬────────┬──────────────┬─────────────┐\n│ company ┆ model        ┆ year ┆ car_age ┆ … ┆ country      ┆ region ┆ capital_gps_ ┆ capital_gps │\n│ ---     ┆ ---          ┆ ---  ┆ ---     ┆   ┆ ---          ┆ ---    ┆ lat          ┆ _lng        │\n│ str     ┆ str          ┆ i64  ┆ i64     ┆   ┆ str          ┆ str    ┆ ---          ┆ ---         │\n│         ┆              ┆      ┆         ┆   ┆              ┆        ┆ f64          ┆ f64         │\n╞═════════╪══════════════╪══════╪═════════╪═══╪══════════════╪════════╪══════════════╪═════════════╡\n│ Maruti  ┆ Swift Dzire  ┆ 2014 ┆ 6       ┆ … ┆ India        ┆ Asia   ┆ 28.614179    ┆ 77.202266   │\n│         ┆ VDI          ┆      ┆         ┆   ┆              ┆        ┆              ┆             │\n│ Skoda   ┆ Rapid 1.5    ┆ 2014 ┆ 6       ┆ … ┆ Czech        ┆ Europe ┆ 50.087465    ┆ 14.421254   │\n│         ┆ TDI Ambition ┆      ┆         ┆   ┆ Republic     ┆        ┆              ┆             │\n│ Honda   ┆ City         ┆ 2006 ┆ 14      ┆ … ┆ Japan        ┆ Asia   ┆ 35.682839    ┆ 139.759455  │\n│         ┆ 2017-2020    ┆      ┆         ┆   ┆              ┆        ┆              ┆             │\n│         ┆ EXi          ┆      ┆         ┆   ┆              ┆        ┆              ┆             │\n│ Hyundai ┆ i20 Sportz   ┆ 2010 ┆ 10      ┆ … ┆ South Korea  ┆ Asia   ┆ 37.566679    ┆ 126.978291  │\n│         ┆ Diesel       ┆      ┆         ┆   ┆              ┆        ┆              ┆             │\n│ Maruti  ┆ Swift VXI    ┆ 2007 ┆ 13      ┆ … ┆ India        ┆ Asia   ┆ 28.614179    ┆ 77.202266   │\n│         ┆ BSIII        ┆      ┆         ┆   ┆              ┆        ┆              ┆             │\n└─────────┴──────────────┴──────┴─────────┴───┴──────────────┴────────┴──────────────┴─────────────┘",
      "text/html": "<div><style>\n.dataframe > thead > tr > th,\n.dataframe > tbody > tr > td {\n  text-align: right;\n}\n</style>\n<small>shape: (5, 18)</small><table border=\"1\" class=\"dataframe\"><thead><tr><th>company</th><th>model</th><th>year</th><th>car_age</th><th>selling_price</th><th>km_driven</th><th>seats</th><th>seller_type</th><th>fuel</th><th>transmission</th><th>owner</th><th>mileage_num</th><th>engine_vol_num</th><th>max_power_num</th><th>country</th><th>region</th><th>capital_gps_lat</th><th>capital_gps_lng</th></tr><tr><td>str</td><td>str</td><td>i64</td><td>i64</td><td>i64</td><td>i64</td><td>i64</td><td>str</td><td>str</td><td>str</td><td>str</td><td>f32</td><td>i32</td><td>f32</td><td>str</td><td>str</td><td>f64</td><td>f64</td></tr></thead><tbody><tr><td>&quot;Maruti&quot;</td><td>&quot;Swift Dzire VD…</td><td>2014</td><td>6</td><td>450000</td><td>145500</td><td>5</td><td>&quot;Individual&quot;</td><td>&quot;Diesel&quot;</td><td>&quot;Manual&quot;</td><td>&quot;First Owner&quot;</td><td>23.4</td><td>1248</td><td>74.0</td><td>&quot;India&quot;</td><td>&quot;Asia&quot;</td><td>28.614179</td><td>77.202266</td></tr><tr><td>&quot;Skoda&quot;</td><td>&quot;Rapid 1.5 TDI …</td><td>2014</td><td>6</td><td>370000</td><td>120000</td><td>5</td><td>&quot;Individual&quot;</td><td>&quot;Diesel&quot;</td><td>&quot;Manual&quot;</td><td>&quot;Second Owner&quot;</td><td>21.139999</td><td>1498</td><td>103.519997</td><td>&quot;Czech Republic…</td><td>&quot;Europe&quot;</td><td>50.087465</td><td>14.421254</td></tr><tr><td>&quot;Honda&quot;</td><td>&quot;City 2017-2020…</td><td>2006</td><td>14</td><td>158000</td><td>140000</td><td>5</td><td>&quot;Individual&quot;</td><td>&quot;Petrol&quot;</td><td>&quot;Manual&quot;</td><td>&quot;Third Owner&quot;</td><td>17.700001</td><td>1497</td><td>78.0</td><td>&quot;Japan&quot;</td><td>&quot;Asia&quot;</td><td>35.682839</td><td>139.759455</td></tr><tr><td>&quot;Hyundai&quot;</td><td>&quot;i20 Sportz Die…</td><td>2010</td><td>10</td><td>225000</td><td>127000</td><td>5</td><td>&quot;Individual&quot;</td><td>&quot;Diesel&quot;</td><td>&quot;Manual&quot;</td><td>&quot;First Owner&quot;</td><td>23.0</td><td>1396</td><td>90.0</td><td>&quot;South Korea&quot;</td><td>&quot;Asia&quot;</td><td>37.566679</td><td>126.978291</td></tr><tr><td>&quot;Maruti&quot;</td><td>&quot;Swift VXI BSII…</td><td>2007</td><td>13</td><td>130000</td><td>120000</td><td>5</td><td>&quot;Individual&quot;</td><td>&quot;Petrol&quot;</td><td>&quot;Manual&quot;</td><td>&quot;First Owner&quot;</td><td>16.1</td><td>1298</td><td>88.199997</td><td>&quot;India&quot;</td><td>&quot;Asia&quot;</td><td>28.614179</td><td>77.202266</td></tr></tbody></table></div>"
     },
     "execution_count": 16,
     "metadata": {},
     "output_type": "execute_result"
    }
   ],
   "source": [
    "df.head(5)"
   ]
  },
  {
   "cell_type": "code",
   "execution_count": 17,
   "id": "0753d7e5-6737-4363-af8f-31a2250d2da8",
   "metadata": {
    "ExecuteTime": {
     "end_time": "2023-08-28T23:10:16.455775Z",
     "start_time": "2023-08-28T23:09:56.203716Z"
    }
   },
   "outputs": [
    {
     "data": {
      "text/plain": "Summarize dataset:   0%|          | 0/5 [00:00<?, ?it/s]",
      "application/vnd.jupyter.widget-view+json": {
       "version_major": 2,
       "version_minor": 0,
       "model_id": "3f21ddf107954978909617871ebb50ca"
      }
     },
     "metadata": {},
     "output_type": "display_data"
    },
    {
     "data": {
      "text/plain": "Generate report structure:   0%|          | 0/1 [00:00<?, ?it/s]",
      "application/vnd.jupyter.widget-view+json": {
       "version_major": 2,
       "version_minor": 0,
       "model_id": "178a1c6071e84ebca8b91decd1efe897"
      }
     },
     "metadata": {},
     "output_type": "display_data"
    },
    {
     "data": {
      "text/plain": "Render HTML:   0%|          | 0/1 [00:00<?, ?it/s]",
      "application/vnd.jupyter.widget-view+json": {
       "version_major": 2,
       "version_minor": 0,
       "model_id": "d9bdc85fd68949e4bf42494716e072d4"
      }
     },
     "metadata": {},
     "output_type": "display_data"
    },
    {
     "data": {
      "text/plain": "Export report to file:   0%|          | 0/1 [00:00<?, ?it/s]",
      "application/vnd.jupyter.widget-view+json": {
       "version_major": 2,
       "version_minor": 0,
       "model_id": "92ff8da0a34f43e1a953ba75c32385f4"
      }
     },
     "metadata": {},
     "output_type": "display_data"
    }
   ],
   "source": [
    "# produce an interactive profile report\n",
    "ProfileReport(df.to_pandas()).to_file(\"../reports/eda.html\")"
   ]
  },
  {
   "cell_type": "markdown",
   "id": "532eda74-2a3f-414e-bc87-398558723a86",
   "metadata": {},
   "source": [
    "The EDA key results:\n",
    "- `car_age` is approximately log-normal, which is expected but can harm our linear model\n",
    "- `selling_price` is approximately log-normal (as expected) but there are some massive outliers, which need to be investigated\n",
    "- `max_power_num` and `km_driven` have some outliers as well (and we should use logarithmic transformation), the other continuous features seem to be reasonably distributed\n",
    "- 5 missing values in `country`, `region` and `gps*` columns - let's remove those for now and focus on them later on"
   ]
  },
  {
   "cell_type": "code",
   "execution_count": 18,
   "id": "6bcd75d5-d655-48f6-b4ba-b6f97e0b63aa",
   "metadata": {
    "ExecuteTime": {
     "end_time": "2023-08-28T23:10:16.493914Z",
     "start_time": "2023-08-28T23:10:16.457236Z"
    }
   },
   "outputs": [],
   "source": [
    "# remove empty values in country\n",
    "df = df.filter(~pl.col(\"country\").is_null())"
   ]
  },
  {
   "cell_type": "code",
   "execution_count": 19,
   "id": "3fc5549d-710a-422d-ae20-942ee96320d7",
   "metadata": {
    "ExecuteTime": {
     "end_time": "2023-08-28T23:10:16.524727Z",
     "start_time": "2023-08-28T23:10:16.487835Z"
    }
   },
   "outputs": [
    {
     "data": {
      "text/plain": "shape: (9, 2)\n┌────────────┬───────────────┐\n│ statistic  ┆ value         │\n│ ---        ┆ ---           │\n│ str        ┆ f64           │\n╞════════════╪═══════════════╡\n│ count      ┆ 7847.0        │\n│ null_count ┆ 0.0           │\n│ mean       ┆ 637597.461068 │\n│ std        ┆ 792707.161053 │\n│ min        ┆ 29999.0       │\n│ 25%        ┆ 265000.0      │\n│ 50%        ┆ 450000.0      │\n│ 75%        ┆ 680000.0      │\n│ max        ┆ 1e7           │\n└────────────┴───────────────┘",
      "text/html": "<div><style>\n.dataframe > thead > tr > th,\n.dataframe > tbody > tr > td {\n  text-align: right;\n}\n</style>\n<small>shape: (9, 2)</small><table border=\"1\" class=\"dataframe\"><thead><tr><th>statistic</th><th>value</th></tr><tr><td>str</td><td>f64</td></tr></thead><tbody><tr><td>&quot;count&quot;</td><td>7847.0</td></tr><tr><td>&quot;null_count&quot;</td><td>0.0</td></tr><tr><td>&quot;mean&quot;</td><td>637597.461068</td></tr><tr><td>&quot;std&quot;</td><td>792707.161053</td></tr><tr><td>&quot;min&quot;</td><td>29999.0</td></tr><tr><td>&quot;25%&quot;</td><td>265000.0</td></tr><tr><td>&quot;50%&quot;</td><td>450000.0</td></tr><tr><td>&quot;75%&quot;</td><td>680000.0</td></tr><tr><td>&quot;max&quot;</td><td>1e7</td></tr></tbody></table></div>"
     },
     "execution_count": 19,
     "metadata": {},
     "output_type": "execute_result"
    }
   ],
   "source": [
    "df[\"selling_price\"].describe()"
   ]
  },
  {
   "cell_type": "code",
   "execution_count": 20,
   "id": "e326f21b-cdeb-4e45-974e-13ebd10aae60",
   "metadata": {
    "ExecuteTime": {
     "end_time": "2023-08-28T23:10:16.857042Z",
     "start_time": "2023-08-28T23:10:16.517951Z"
    }
   },
   "outputs": [
    {
     "data": {
      "text/plain": "<Figure size 640x480 with 2 Axes>",
      "image/png": "[encoded data removed]"
     },
     "metadata": {},
     "output_type": "display_data"
    }
   ],
   "source": [
    "fig = plot_hist(df, \"selling_price\")"
   ]
  },
  {
   "cell_type": "code",
   "execution_count": 21,
   "id": "a681d421-a72c-4236-827d-14134c0463c4",
   "metadata": {
    "ExecuteTime": {
     "end_time": "2023-08-28T23:10:17.155021Z",
     "start_time": "2023-08-28T23:10:16.856864Z"
    }
   },
   "outputs": [
    {
     "data": {
      "text/plain": "<Figure size 640x480 with 2 Axes>",
      "image/png": "[encoded data removed]"
     },
     "metadata": {},
     "output_type": "display_data"
    }
   ],
   "source": [
    "fig = plot_hist(df, \"max_power_num\")"
   ]
  },
  {
   "cell_type": "code",
   "execution_count": 22,
   "id": "e9b39b81-808d-4af5-a1fa-b8fd98932eb7",
   "metadata": {
    "ExecuteTime": {
     "end_time": "2023-08-28T23:10:17.214366Z",
     "start_time": "2023-08-28T23:10:17.156249Z"
    }
   },
   "outputs": [
    {
     "data": {
      "text/plain": "shape: (5, 18)\n┌─────────┬────────────────┬──────┬─────────┬───┬─────────┬────────┬───────────────┬───────────────┐\n│ company ┆ model          ┆ year ┆ car_age ┆ … ┆ country ┆ region ┆ capital_gps_l ┆ capital_gps_l │\n│ ---     ┆ ---            ┆ ---  ┆ ---     ┆   ┆ ---     ┆ ---    ┆ at            ┆ ng            │\n│ str     ┆ str            ┆ i64  ┆ i64     ┆   ┆ str     ┆ str    ┆ ---           ┆ ---           │\n│         ┆                ┆      ┆         ┆   ┆         ┆        ┆ f64           ┆ f64           │\n╞═════════╪════════════════╪══════╪═════════╪═══╪═════════╪════════╪═══════════════╪═══════════════╡\n│ Volvo   ┆ XC90 T8        ┆ 2017 ┆ 3       ┆ … ┆ Sweden  ┆ Europe ┆ 59.325117     ┆ 18.071094     │\n│         ┆ Excellence     ┆      ┆         ┆   ┆         ┆        ┆               ┆               │\n│         ┆ BSIV           ┆      ┆         ┆   ┆         ┆        ┆               ┆               │\n│ BMW     ┆ X7 xDrive 30d  ┆ 2020 ┆ 0       ┆ … ┆ Germany ┆ Europe ┆ 52.517036     ┆ 13.38886      │\n│         ┆ DPE            ┆      ┆         ┆   ┆         ┆        ┆               ┆               │\n│ Audi    ┆ A6 35 TFSI     ┆ 2019 ┆ 1       ┆ … ┆ Germany ┆ Europe ┆ 52.517036     ┆ 13.38886      │\n│         ┆ Matrix         ┆      ┆         ┆   ┆         ┆        ┆               ┆               │\n│ Audi    ┆ A6 35 TFSI     ┆ 2019 ┆ 1       ┆ … ┆ Germany ┆ Europe ┆ 52.517036     ┆ 13.38886      │\n│         ┆ Matrix         ┆      ┆         ┆   ┆         ┆        ┆               ┆               │\n│ BMW     ┆ 6 Series GT    ┆ 2018 ┆ 2       ┆ … ┆ Germany ┆ Europe ┆ 52.517036     ┆ 13.38886      │\n│         ┆ 630d Luxury    ┆      ┆         ┆   ┆         ┆        ┆               ┆               │\n│         ┆ Line           ┆      ┆         ┆   ┆         ┆        ┆               ┆               │\n└─────────┴────────────────┴──────┴─────────┴───┴─────────┴────────┴───────────────┴───────────────┘",
      "text/html": "<div><style>\n.dataframe > thead > tr > th,\n.dataframe > tbody > tr > td {\n  text-align: right;\n}\n</style>\n<small>shape: (5, 18)</small><table border=\"1\" class=\"dataframe\"><thead><tr><th>company</th><th>model</th><th>year</th><th>car_age</th><th>selling_price</th><th>km_driven</th><th>seats</th><th>seller_type</th><th>fuel</th><th>transmission</th><th>owner</th><th>mileage_num</th><th>engine_vol_num</th><th>max_power_num</th><th>country</th><th>region</th><th>capital_gps_lat</th><th>capital_gps_lng</th></tr><tr><td>str</td><td>str</td><td>i64</td><td>i64</td><td>i64</td><td>i64</td><td>i64</td><td>str</td><td>str</td><td>str</td><td>str</td><td>f32</td><td>i32</td><td>f32</td><td>str</td><td>str</td><td>f64</td><td>f64</td></tr></thead><tbody><tr><td>&quot;Volvo&quot;</td><td>&quot;XC90 T8 Excell…</td><td>2017</td><td>3</td><td>10000000</td><td>30000</td><td>4</td><td>&quot;Individual&quot;</td><td>&quot;Petrol&quot;</td><td>&quot;Automatic&quot;</td><td>&quot;First Owner&quot;</td><td>42.0</td><td>1969</td><td>400.0</td><td>&quot;Sweden&quot;</td><td>&quot;Europe&quot;</td><td>59.325117</td><td>18.071094</td></tr><tr><td>&quot;BMW&quot;</td><td>&quot;X7 xDrive 30d …</td><td>2020</td><td>0</td><td>7200000</td><td>5000</td><td>7</td><td>&quot;Individual&quot;</td><td>&quot;Diesel&quot;</td><td>&quot;Automatic&quot;</td><td>&quot;First Owner&quot;</td><td>13.38</td><td>2993</td><td>265.0</td><td>&quot;Germany&quot;</td><td>&quot;Europe&quot;</td><td>52.517036</td><td>13.38886</td></tr><tr><td>&quot;Audi&quot;</td><td>&quot;A6 35 TFSI Mat…</td><td>2019</td><td>1</td><td>6523000</td><td>23600</td><td>5</td><td>&quot;Dealer&quot;</td><td>&quot;Petrol&quot;</td><td>&quot;Automatic&quot;</td><td>&quot;Test Drive Car…</td><td>15.26</td><td>1798</td><td>187.740005</td><td>&quot;Germany&quot;</td><td>&quot;Europe&quot;</td><td>52.517036</td><td>13.38886</td></tr><tr><td>&quot;Audi&quot;</td><td>&quot;A6 35 TFSI Mat…</td><td>2019</td><td>1</td><td>6223000</td><td>7800</td><td>5</td><td>&quot;Dealer&quot;</td><td>&quot;Petrol&quot;</td><td>&quot;Automatic&quot;</td><td>&quot;Test Drive Car…</td><td>15.26</td><td>1798</td><td>187.740005</td><td>&quot;Germany&quot;</td><td>&quot;Europe&quot;</td><td>52.517036</td><td>13.38886</td></tr><tr><td>&quot;BMW&quot;</td><td>&quot;6 Series GT 63…</td><td>2018</td><td>2</td><td>6000000</td><td>28156</td><td>4</td><td>&quot;Dealer&quot;</td><td>&quot;Diesel&quot;</td><td>&quot;Automatic&quot;</td><td>&quot;First Owner&quot;</td><td>17.09</td><td>2993</td><td>261.399994</td><td>&quot;Germany&quot;</td><td>&quot;Europe&quot;</td><td>52.517036</td><td>13.38886</td></tr></tbody></table></div>"
     },
     "execution_count": 22,
     "metadata": {},
     "output_type": "execute_result"
    }
   ],
   "source": [
    "df.sort(\"selling_price\", descending=True).head(5)"
   ]
  },
  {
   "cell_type": "code",
   "execution_count": 23,
   "id": "fb1beb54-5c8a-48d3-b631-085b2fc13ba9",
   "metadata": {
    "ExecuteTime": {
     "end_time": "2023-08-28T23:10:17.227866Z",
     "start_time": "2023-08-28T23:10:17.192660Z"
    }
   },
   "outputs": [
    {
     "data": {
      "text/plain": "shape: (5, 18)\n┌─────────┬─────────────┬──────┬─────────┬───┬─────────┬────────┬─────────────────┬────────────────┐\n│ company ┆ model       ┆ year ┆ car_age ┆ … ┆ country ┆ region ┆ capital_gps_lat ┆ capital_gps_ln │\n│ ---     ┆ ---         ┆ ---  ┆ ---     ┆   ┆ ---     ┆ ---    ┆ ---             ┆ g              │\n│ str     ┆ str         ┆ i64  ┆ i64     ┆   ┆ str     ┆ str    ┆ f64             ┆ ---            │\n│         ┆             ┆      ┆         ┆   ┆         ┆        ┆                 ┆ f64            │\n╞═════════╪═════════════╪══════╪═════════╪═══╪═════════╪════════╪═════════════════╪════════════════╡\n│ Maruti  ┆ 800 AC      ┆ 1997 ┆ 23      ┆ … ┆ India   ┆ Asia   ┆ 28.614179       ┆ 77.202266      │\n│ Maruti  ┆ Zen LXI     ┆ 2001 ┆ 19      ┆ … ┆ India   ┆ Asia   ┆ 28.614179       ┆ 77.202266      │\n│ Maruti  ┆ 800 Std     ┆ 2000 ┆ 20      ┆ … ┆ India   ┆ Asia   ┆ 28.614179       ┆ 77.202266      │\n│ Maruti  ┆ 800 Std     ┆ 2004 ┆ 16      ┆ … ┆ India   ┆ Asia   ┆ 28.614179       ┆ 77.202266      │\n│ Maruti  ┆ Wagon R VXI ┆ 2004 ┆ 16      ┆ … ┆ India   ┆ Asia   ┆ 28.614179       ┆ 77.202266      │\n└─────────┴─────────────┴──────┴─────────┴───┴─────────┴────────┴─────────────────┴────────────────┘",
      "text/html": "<div><style>\n.dataframe > thead > tr > th,\n.dataframe > tbody > tr > td {\n  text-align: right;\n}\n</style>\n<small>shape: (5, 18)</small><table border=\"1\" class=\"dataframe\"><thead><tr><th>company</th><th>model</th><th>year</th><th>car_age</th><th>selling_price</th><th>km_driven</th><th>seats</th><th>seller_type</th><th>fuel</th><th>transmission</th><th>owner</th><th>mileage_num</th><th>engine_vol_num</th><th>max_power_num</th><th>country</th><th>region</th><th>capital_gps_lat</th><th>capital_gps_lng</th></tr><tr><td>str</td><td>str</td><td>i64</td><td>i64</td><td>i64</td><td>i64</td><td>i64</td><td>str</td><td>str</td><td>str</td><td>str</td><td>f32</td><td>i32</td><td>f32</td><td>str</td><td>str</td><td>f64</td><td>f64</td></tr></thead><tbody><tr><td>&quot;Maruti&quot;</td><td>&quot;800 AC&quot;</td><td>1997</td><td>23</td><td>29999</td><td>80000</td><td>4</td><td>&quot;Individual&quot;</td><td>&quot;Petrol&quot;</td><td>&quot;Manual&quot;</td><td>&quot;Third Owner&quot;</td><td>16.1</td><td>796</td><td>37.0</td><td>&quot;India&quot;</td><td>&quot;Asia&quot;</td><td>28.614179</td><td>77.202266</td></tr><tr><td>&quot;Maruti&quot;</td><td>&quot;Zen LXI&quot;</td><td>2001</td><td>19</td><td>30000</td><td>10000</td><td>5</td><td>&quot;Individual&quot;</td><td>&quot;Petrol&quot;</td><td>&quot;Manual&quot;</td><td>&quot;First Owner&quot;</td><td>17.299999</td><td>993</td><td>60.0</td><td>&quot;India&quot;</td><td>&quot;Asia&quot;</td><td>28.614179</td><td>77.202266</td></tr><tr><td>&quot;Maruti&quot;</td><td>&quot;800 Std&quot;</td><td>2000</td><td>20</td><td>31000</td><td>56194</td><td>4</td><td>&quot;Individual&quot;</td><td>&quot;Petrol&quot;</td><td>&quot;Manual&quot;</td><td>&quot;Fourth &amp; Above…</td><td>16.1</td><td>796</td><td>37.0</td><td>&quot;India&quot;</td><td>&quot;Asia&quot;</td><td>28.614179</td><td>77.202266</td></tr><tr><td>&quot;Maruti&quot;</td><td>&quot;800 Std&quot;</td><td>2004</td><td>16</td><td>31504</td><td>110000</td><td>4</td><td>&quot;Individual&quot;</td><td>&quot;Petrol&quot;</td><td>&quot;Manual&quot;</td><td>&quot;Third Owner&quot;</td><td>16.1</td><td>796</td><td>37.0</td><td>&quot;India&quot;</td><td>&quot;Asia&quot;</td><td>28.614179</td><td>77.202266</td></tr><tr><td>&quot;Maruti&quot;</td><td>&quot;Wagon R VXI&quot;</td><td>2004</td><td>16</td><td>33351</td><td>90000</td><td>5</td><td>&quot;Individual&quot;</td><td>&quot;Petrol&quot;</td><td>&quot;Manual&quot;</td><td>&quot;Third Owner&quot;</td><td>18.9</td><td>998</td><td>67.099998</td><td>&quot;India&quot;</td><td>&quot;Asia&quot;</td><td>28.614179</td><td>77.202266</td></tr></tbody></table></div>"
     },
     "execution_count": 23,
     "metadata": {},
     "output_type": "execute_result"
    }
   ],
   "source": [
    "df.sort(\"selling_price\", descending=False).head(5)"
   ]
  },
  {
   "cell_type": "code",
   "execution_count": 24,
   "id": "2d4d3fee-e5db-49ab-8cc7-423daedce9cd",
   "metadata": {
    "ExecuteTime": {
     "end_time": "2023-08-28T23:10:17.301334Z",
     "start_time": "2023-08-28T23:10:17.227498Z"
    }
   },
   "outputs": [
    {
     "data": {
      "text/plain": "shape: (11, 3)\n┌──────────┬────────────────┬───────┐\n│ region   ┆ country        ┆ count │\n│ ---      ┆ ---            ┆ ---   │\n│ str      ┆ str            ┆ u32   │\n╞══════════╪════════════════╪═══════╡\n│ Americas ┆ United States  ┆ 649   │\n│ Americas ┆ Brazil         ┆ 185   │\n│ Asia     ┆ India          ┆ 3850  │\n│ Asia     ┆ South Korea    ┆ 1367  │\n│ …        ┆ …              ┆ …     │\n│ Europe   ┆ Czech Republic ┆ 104   │\n│ Europe   ┆ United Kingdom ┆ 80    │\n│ Europe   ┆ Sweden         ┆ 67    │\n│ Europe   ┆ Italy          ┆ 41    │\n└──────────┴────────────────┴───────┘",
      "text/html": "<div><style>\n.dataframe > thead > tr > th,\n.dataframe > tbody > tr > td {\n  text-align: right;\n}\n</style>\n<small>shape: (11, 3)</small><table border=\"1\" class=\"dataframe\"><thead><tr><th>region</th><th>country</th><th>count</th></tr><tr><td>str</td><td>str</td><td>u32</td></tr></thead><tbody><tr><td>&quot;Americas&quot;</td><td>&quot;United States&quot;</td><td>649</td></tr><tr><td>&quot;Americas&quot;</td><td>&quot;Brazil&quot;</td><td>185</td></tr><tr><td>&quot;Asia&quot;</td><td>&quot;India&quot;</td><td>3850</td></tr><tr><td>&quot;Asia&quot;</td><td>&quot;South Korea&quot;</td><td>1367</td></tr><tr><td>&quot;Asia&quot;</td><td>&quot;Japan&quot;</td><td>1117</td></tr><tr><td>&quot;Europe&quot;</td><td>&quot;France&quot;</td><td>228</td></tr><tr><td>&quot;Europe&quot;</td><td>&quot;Germany&quot;</td><td>159</td></tr><tr><td>&quot;Europe&quot;</td><td>&quot;Czech Republic…</td><td>104</td></tr><tr><td>&quot;Europe&quot;</td><td>&quot;United Kingdom…</td><td>80</td></tr><tr><td>&quot;Europe&quot;</td><td>&quot;Sweden&quot;</td><td>67</td></tr><tr><td>&quot;Europe&quot;</td><td>&quot;Italy&quot;</td><td>41</td></tr></tbody></table></div>"
     },
     "execution_count": 24,
     "metadata": {},
     "output_type": "execute_result"
    }
   ],
   "source": [
    "# recode regions to less categories\n",
    "# let's make categories: India, Pakistan, Europe/US (except Belarus), East Asia (Japan/Korea), Other\n",
    "df.groupby([\"region\", \"country\"]).count().sort(\n",
    "    [\"region\", \"count\"], descending=[False, True]\n",
    ")"
   ]
  },
  {
   "cell_type": "code",
   "execution_count": 25,
   "id": "09cdf54a-b13b-410f-87c0-2ce78477f4c6",
   "metadata": {
    "ExecuteTime": {
     "end_time": "2023-08-28T23:10:17.382147Z",
     "start_time": "2023-08-28T23:10:17.263345Z"
    }
   },
   "outputs": [],
   "source": [
    "df = df.with_columns(\n",
    "    [\n",
    "        (\n",
    "            pl.when(pl.col(\"country\").is_in([\"India\", \"Pakistan\"]))\n",
    "            .then(pl.col(\"country\"))\n",
    "            .when(pl.col(\"country\") == \"Belarus\")\n",
    "            .then(pl.lit(\"other\"))\n",
    "            .when(pl.col(\"region\") == \"Europe\")\n",
    "            .then(pl.lit(\"Europe/US\"))\n",
    "            .when(pl.col(\"country\") == \"United States\")\n",
    "            .then(pl.lit(\"Europe/US\"))\n",
    "            .when(pl.col(\"country\").is_in([\"South Korea\", \"Japan\"]))\n",
    "            .then(pl.lit(\"Japan/Korea\"))\n",
    "            .otherwise(pl.lit(\"other\"))\n",
    "            .alias(\"brand_segment\")\n",
    "        ),\n",
    "        pl.col(\"selling_price\").apply(np.log).alias(\"selling_price_log\"),\n",
    "        pl.col(\"max_power_num\").apply(np.log).alias(\"max_power_log\"),\n",
    "        pl.col(\"km_driven\").apply(np.log).alias(\"km_driven_log\"),\n",
    "    ]\n",
    ")"
   ]
  },
  {
   "cell_type": "code",
   "execution_count": 26,
   "id": "ecbe1856-4bad-4307-b15c-6eba77630a44",
   "metadata": {
    "ExecuteTime": {
     "end_time": "2023-08-28T23:10:17.420444Z",
     "start_time": "2023-08-28T23:10:17.327001Z"
    }
   },
   "outputs": [
    {
     "data": {
      "text/plain": "shape: (4, 2)\n┌───────────────┬───────┐\n│ brand_segment ┆ count │\n│ ---           ┆ ---   │\n│ str           ┆ u32   │\n╞═══════════════╪═══════╡\n│ Europe/US     ┆ 1328  │\n│ Japan/Korea   ┆ 2484  │\n│ other         ┆ 185   │\n│ India         ┆ 3850  │\n└───────────────┴───────┘",
      "text/html": "<div><style>\n.dataframe > thead > tr > th,\n.dataframe > tbody > tr > td {\n  text-align: right;\n}\n</style>\n<small>shape: (4, 2)</small><table border=\"1\" class=\"dataframe\"><thead><tr><th>brand_segment</th><th>count</th></tr><tr><td>str</td><td>u32</td></tr></thead><tbody><tr><td>&quot;Europe/US&quot;</td><td>1328</td></tr><tr><td>&quot;Japan/Korea&quot;</td><td>2484</td></tr><tr><td>&quot;other&quot;</td><td>185</td></tr><tr><td>&quot;India&quot;</td><td>3850</td></tr></tbody></table></div>"
     },
     "execution_count": 26,
     "metadata": {},
     "output_type": "execute_result"
    }
   ],
   "source": [
    "df.groupby(\"brand_segment\").count()"
   ]
  },
  {
   "cell_type": "code",
   "execution_count": 27,
   "id": "4b876511-5d2e-4d2c-833e-753b82747529",
   "metadata": {
    "ExecuteTime": {
     "end_time": "2023-08-28T23:10:17.446606Z",
     "start_time": "2023-08-28T23:10:17.379040Z"
    }
   },
   "outputs": [
    {
     "data": {
      "text/plain": "shape: (4, 2)\n┌───────────────┬───────────────┐\n│ brand_segment ┆ selling_price │\n│ ---           ┆ ---           │\n│ str           ┆ f64           │\n╞═══════════════╪═══════════════╡\n│ Europe/US     ┆ 517500.0      │\n│ India         ┆ 400000.0      │\n│ Japan/Korea   ┆ 509999.0      │\n│ other         ┆ 425000.0      │\n└───────────────┴───────────────┘",
      "text/html": "<div><style>\n.dataframe > thead > tr > th,\n.dataframe > tbody > tr > td {\n  text-align: right;\n}\n</style>\n<small>shape: (4, 2)</small><table border=\"1\" class=\"dataframe\"><thead><tr><th>brand_segment</th><th>selling_price</th></tr><tr><td>str</td><td>f64</td></tr></thead><tbody><tr><td>&quot;Europe/US&quot;</td><td>517500.0</td></tr><tr><td>&quot;India&quot;</td><td>400000.0</td></tr><tr><td>&quot;Japan/Korea&quot;</td><td>509999.0</td></tr><tr><td>&quot;other&quot;</td><td>425000.0</td></tr></tbody></table></div>"
     },
     "execution_count": 27,
     "metadata": {},
     "output_type": "execute_result"
    }
   ],
   "source": [
    "df.groupby(\"brand_segment\").agg(pl.col(\"selling_price\").median()).sort(\n",
    "    by=\"brand_segment\"\n",
    ")"
   ]
  },
  {
   "cell_type": "markdown",
   "id": "7a93897e-edcb-4895-b99e-d873fad1ac56",
   "metadata": {},
   "source": [
    "## Linear regression\n",
    "The goal of this model is to evaluate the monetary value of each product feature, e.g. what is the additional cost to buy a diesel engine instead of a petrol engine. These estimated values will be used to determine automatically which features are benefitial to customers."
   ]
  },
  {
   "cell_type": "code",
   "execution_count": 28,
   "id": "0c5ff98b-60ae-47c1-bc93-7825a65b196b",
   "metadata": {
    "ExecuteTime": {
     "end_time": "2023-08-28T23:10:17.485750Z",
     "start_time": "2023-08-28T23:10:17.412584Z"
    }
   },
   "outputs": [
    {
     "data": {
      "text/plain": "shape: (5, 22)\n┌─────────┬─────────────┬──────┬─────────┬───┬─────────────┬─────────────┬────────────┬────────────┐\n│ company ┆ model       ┆ year ┆ car_age ┆ … ┆ brand_segme ┆ selling_pri ┆ max_power_ ┆ km_driven_ │\n│ ---     ┆ ---         ┆ ---  ┆ ---     ┆   ┆ nt          ┆ ce_log      ┆ log        ┆ log        │\n│ str     ┆ str         ┆ i64  ┆ i64     ┆   ┆ ---         ┆ ---         ┆ ---        ┆ ---        │\n│         ┆             ┆      ┆         ┆   ┆ str         ┆ f64         ┆ f64        ┆ f64        │\n╞═════════╪═════════════╪══════╪═════════╪═══╪═════════════╪═════════════╪════════════╪════════════╡\n│ Maruti  ┆ Swift Dzire ┆ 2014 ┆ 6       ┆ … ┆ India       ┆ 13.017003   ┆ 4.304065   ┆ 11.887931  │\n│         ┆ VDI         ┆      ┆         ┆   ┆             ┆             ┆            ┆            │\n│ Skoda   ┆ Rapid 1.5   ┆ 2014 ┆ 6       ┆ … ┆ Europe/US   ┆ 12.821258   ┆ 4.639765   ┆ 11.695247  │\n│         ┆ TDI         ┆      ┆         ┆   ┆             ┆             ┆            ┆            │\n│         ┆ Ambition    ┆      ┆         ┆   ┆             ┆             ┆            ┆            │\n│ Honda   ┆ City        ┆ 2006 ┆ 14      ┆ … ┆ Japan/Korea ┆ 11.97035    ┆ 4.356709   ┆ 11.849398  │\n│         ┆ 2017-2020   ┆      ┆         ┆   ┆             ┆             ┆            ┆            │\n│         ┆ EXi         ┆      ┆         ┆   ┆             ┆             ┆            ┆            │\n│ Hyundai ┆ i20 Sportz  ┆ 2010 ┆ 10      ┆ … ┆ Japan/Korea ┆ 12.323856   ┆ 4.49981    ┆ 11.751942  │\n│         ┆ Diesel      ┆      ┆         ┆   ┆             ┆             ┆            ┆            │\n│ Maruti  ┆ Swift VXI   ┆ 2007 ┆ 13      ┆ … ┆ India       ┆ 11.77529    ┆ 4.479607   ┆ 11.695247  │\n│         ┆ BSIII       ┆      ┆         ┆   ┆             ┆             ┆            ┆            │\n└─────────┴─────────────┴──────┴─────────┴───┴─────────────┴─────────────┴────────────┴────────────┘",
      "text/html": "<div><style>\n.dataframe > thead > tr > th,\n.dataframe > tbody > tr > td {\n  text-align: right;\n}\n</style>\n<small>shape: (5, 22)</small><table border=\"1\" class=\"dataframe\"><thead><tr><th>company</th><th>model</th><th>year</th><th>car_age</th><th>selling_price</th><th>km_driven</th><th>seats</th><th>seller_type</th><th>fuel</th><th>transmission</th><th>owner</th><th>mileage_num</th><th>engine_vol_num</th><th>max_power_num</th><th>country</th><th>region</th><th>capital_gps_lat</th><th>capital_gps_lng</th><th>brand_segment</th><th>selling_price_log</th><th>max_power_log</th><th>km_driven_log</th></tr><tr><td>str</td><td>str</td><td>i64</td><td>i64</td><td>i64</td><td>i64</td><td>i64</td><td>str</td><td>str</td><td>str</td><td>str</td><td>f32</td><td>i32</td><td>f32</td><td>str</td><td>str</td><td>f64</td><td>f64</td><td>str</td><td>f64</td><td>f64</td><td>f64</td></tr></thead><tbody><tr><td>&quot;Maruti&quot;</td><td>&quot;Swift Dzire VD…</td><td>2014</td><td>6</td><td>450000</td><td>145500</td><td>5</td><td>&quot;Individual&quot;</td><td>&quot;Diesel&quot;</td><td>&quot;Manual&quot;</td><td>&quot;First Owner&quot;</td><td>23.4</td><td>1248</td><td>74.0</td><td>&quot;India&quot;</td><td>&quot;Asia&quot;</td><td>28.614179</td><td>77.202266</td><td>&quot;India&quot;</td><td>13.017003</td><td>4.304065</td><td>11.887931</td></tr><tr><td>&quot;Skoda&quot;</td><td>&quot;Rapid 1.5 TDI …</td><td>2014</td><td>6</td><td>370000</td><td>120000</td><td>5</td><td>&quot;Individual&quot;</td><td>&quot;Diesel&quot;</td><td>&quot;Manual&quot;</td><td>&quot;Second Owner&quot;</td><td>21.139999</td><td>1498</td><td>103.519997</td><td>&quot;Czech Republic…</td><td>&quot;Europe&quot;</td><td>50.087465</td><td>14.421254</td><td>&quot;Europe/US&quot;</td><td>12.821258</td><td>4.639765</td><td>11.695247</td></tr><tr><td>&quot;Honda&quot;</td><td>&quot;City 2017-2020…</td><td>2006</td><td>14</td><td>158000</td><td>140000</td><td>5</td><td>&quot;Individual&quot;</td><td>&quot;Petrol&quot;</td><td>&quot;Manual&quot;</td><td>&quot;Third Owner&quot;</td><td>17.700001</td><td>1497</td><td>78.0</td><td>&quot;Japan&quot;</td><td>&quot;Asia&quot;</td><td>35.682839</td><td>139.759455</td><td>&quot;Japan/Korea&quot;</td><td>11.97035</td><td>4.356709</td><td>11.849398</td></tr><tr><td>&quot;Hyundai&quot;</td><td>&quot;i20 Sportz Die…</td><td>2010</td><td>10</td><td>225000</td><td>127000</td><td>5</td><td>&quot;Individual&quot;</td><td>&quot;Diesel&quot;</td><td>&quot;Manual&quot;</td><td>&quot;First Owner&quot;</td><td>23.0</td><td>1396</td><td>90.0</td><td>&quot;South Korea&quot;</td><td>&quot;Asia&quot;</td><td>37.566679</td><td>126.978291</td><td>&quot;Japan/Korea&quot;</td><td>12.323856</td><td>4.49981</td><td>11.751942</td></tr><tr><td>&quot;Maruti&quot;</td><td>&quot;Swift VXI BSII…</td><td>2007</td><td>13</td><td>130000</td><td>120000</td><td>5</td><td>&quot;Individual&quot;</td><td>&quot;Petrol&quot;</td><td>&quot;Manual&quot;</td><td>&quot;First Owner&quot;</td><td>16.1</td><td>1298</td><td>88.199997</td><td>&quot;India&quot;</td><td>&quot;Asia&quot;</td><td>28.614179</td><td>77.202266</td><td>&quot;India&quot;</td><td>11.77529</td><td>4.479607</td><td>11.695247</td></tr></tbody></table></div>"
     },
     "execution_count": 28,
     "metadata": {},
     "output_type": "execute_result"
    }
   ],
   "source": [
    "df.head(5)"
   ]
  },
  {
   "cell_type": "code",
   "execution_count": 29,
   "id": "b3e3b11a-2b34-4d1d-ba11-e2e746c0bbd5",
   "metadata": {
    "ExecuteTime": {
     "end_time": "2023-08-28T23:10:17.522450Z",
     "start_time": "2023-08-28T23:10:17.444355Z"
    }
   },
   "outputs": [],
   "source": [
    "numeric_features = [\n",
    "    \"car_age\",\n",
    "    \"km_driven_log\",\n",
    "    \"mileage_num\",\n",
    "    \"engine_vol_num\",\n",
    "    \"max_power_log\",\n",
    "    \"seats\",\n",
    "]\n",
    "categorical_features = [\"seller_type\", \"fuel\", \"transmission\", \"owner\", \"brand_segment\"]\n",
    "y_col = \"selling_price_log\"\n",
    "all_features = numeric_features + categorical_features"
   ]
  },
  {
   "cell_type": "code",
   "execution_count": 30,
   "id": "eb0f078e-e2a7-49a4-b5fa-7fb203761eb1",
   "metadata": {
    "ExecuteTime": {
     "end_time": "2023-08-28T23:10:17.527135Z",
     "start_time": "2023-08-28T23:10:17.474499Z"
    }
   },
   "outputs": [],
   "source": [
    "X = df.select(all_features).to_pandas()\n",
    "y = df[y_col].to_pandas()"
   ]
  },
  {
   "cell_type": "code",
   "execution_count": 31,
   "id": "8a1e18ba-3569-4bd2-bf37-5bc7c0cb806a",
   "metadata": {
    "ExecuteTime": {
     "end_time": "2023-08-28T23:10:17.611200Z",
     "start_time": "2023-08-28T23:10:17.504679Z"
    }
   },
   "outputs": [],
   "source": [
    "# Split data into train and test sets\n",
    "X_train, X_val, y_train, y_val = train_test_split(X, y, test_size=0.2, random_state=42)"
   ]
  },
  {
   "cell_type": "code",
   "execution_count": 32,
   "id": "ba062b41-79aa-49a7-873e-4989a7ab804f",
   "metadata": {
    "ExecuteTime": {
     "end_time": "2023-08-28T23:10:17.694815Z",
     "start_time": "2023-08-28T23:10:17.535009Z"
    }
   },
   "outputs": [],
   "source": [
    "numeric_features_bool = [f in numeric_features for f in all_features]\n",
    "categorical_features_bool = [f in categorical_features for f in all_features]"
   ]
  },
  {
   "cell_type": "code",
   "execution_count": 33,
   "id": "a34f3d7f-11fe-41e6-930f-c463294d3f33",
   "metadata": {
    "ExecuteTime": {
     "end_time": "2023-08-28T23:10:17.695221Z",
     "start_time": "2023-08-28T23:10:17.567415Z"
    }
   },
   "outputs": [],
   "source": [
    "preprocessor = ColumnTransformer(\n",
    "    transformers=[\n",
    "        (\"num\", StandardScaler(), numeric_features),\n",
    "        (\"cat\", OneHotEncoder(drop=\"first\"), categorical_features),\n",
    "    ]\n",
    ")"
   ]
  },
  {
   "cell_type": "code",
   "execution_count": 34,
   "id": "a47e3bbc-7b5d-47bc-9866-2620ac2d1306",
   "metadata": {
    "ExecuteTime": {
     "end_time": "2023-08-28T23:10:17.697332Z",
     "start_time": "2023-08-28T23:10:17.615533Z"
    }
   },
   "outputs": [],
   "source": [
    "# Define the Lasso model and parameter grid\n",
    "lasso = Lasso()\n",
    "param_grid = {\"lasso__alpha\": [10 ** (-i) for i in range(8)]}"
   ]
  },
  {
   "cell_type": "code",
   "execution_count": 35,
   "id": "6655b75f-909a-469e-abb0-b6491791c626",
   "metadata": {
    "ExecuteTime": {
     "end_time": "2023-08-28T23:10:17.737925Z",
     "start_time": "2023-08-28T23:10:17.676676Z"
    }
   },
   "outputs": [],
   "source": [
    "# Create the pipeline with preprocessing and Lasso regression\n",
    "pipeline = Pipeline(steps=[(\"preprocessor\", preprocessor), (\"lasso\", lasso)])"
   ]
  },
  {
   "cell_type": "code",
   "execution_count": 36,
   "id": "ec0c443a-b3ab-4544-bb74-e5d9144dabe4",
   "metadata": {
    "ExecuteTime": {
     "end_time": "2023-08-28T23:10:19.379182Z",
     "start_time": "2023-08-28T23:10:17.722746Z"
    }
   },
   "outputs": [
    {
     "data": {
      "text/plain": "GridSearchCV(cv=5,\n             estimator=Pipeline(steps=[('preprocessor',\n                                        ColumnTransformer(transformers=[('num',\n                                                                         StandardScaler(),\n                                                                         ['car_age',\n                                                                          'km_driven_log',\n                                                                          'mileage_num',\n                                                                          'engine_vol_num',\n                                                                          'max_power_log',\n                                                                          'seats']),\n                                                                        ('cat',\n                                                                         OneHotEncoder(drop='first'),\n                                                                         ['seller_type',\n                                                                          'fuel',\n                                                                          'transmission',\n                                                                          'owner',\n                                                                          'brand_segment'])])),\n                                       ('lasso', Lasso())]),\n             param_grid={'lasso__alpha': [1, 0.1, 0.01, 0.001, 0.0001, 1e-05,\n                                          1e-06, 1e-07]})",
      "text/html": "<style>#sk-container-id-1 {color: black;}#sk-container-id-1 pre{padding: 0;}#sk-container-id-1 div.sk-toggleable {background-color: white;}#sk-container-id-1 label.sk-toggleable__label {cursor: pointer;display: block;width: 100%;margin-bottom: 0;padding: 0.3em;box-sizing: border-box;text-align: center;}#sk-container-id-1 label.sk-toggleable__label-arrow:before {content: \"▸\";float: left;margin-right: 0.25em;color: #696969;}#sk-container-id-1 label.sk-toggleable__label-arrow:hover:before {color: black;}#sk-container-id-1 div.sk-estimator:hover label.sk-toggleable__label-arrow:before {color: black;}#sk-container-id-1 div.sk-toggleable__content {max-height: 0;max-width: 0;overflow: hidden;text-align: left;background-color: #f0f8ff;}#sk-container-id-1 div.sk-toggleable__content pre {margin: 0.2em;color: black;border-radius: 0.25em;background-color: #f0f8ff;}#sk-container-id-1 input.sk-toggleable__control:checked~div.sk-toggleable__content {max-height: 200px;max-width: 100%;overflow: auto;}#sk-container-id-1 input.sk-toggleable__control:checked~label.sk-toggleable__label-arrow:before {content: \"▾\";}#sk-container-id-1 div.sk-estimator input.sk-toggleable__control:checked~label.sk-toggleable__label {background-color: #d4ebff;}#sk-container-id-1 div.sk-label input.sk-toggleable__control:checked~label.sk-toggleable__label {background-color: #d4ebff;}#sk-container-id-1 input.sk-hidden--visually {border: 0;clip: rect(1px 1px 1px 1px);clip: rect(1px, 1px, 1px, 1px);height: 1px;margin: -1px;overflow: hidden;padding: 0;position: absolute;width: 1px;}#sk-container-id-1 div.sk-estimator {font-family: monospace;background-color: #f0f8ff;border: 1px dotted black;border-radius: 0.25em;box-sizing: border-box;margin-bottom: 0.5em;}#sk-container-id-1 div.sk-estimator:hover {background-color: #d4ebff;}#sk-container-id-1 div.sk-parallel-item::after {content: \"\";width: 100%;border-bottom: 1px solid gray;flex-grow: 1;}#sk-container-id-1 div.sk-label:hover label.sk-toggleable__label {background-color: #d4ebff;}#sk-container-id-1 div.sk-serial::before {content: \"\";position: absolute;border-left: 1px solid gray;box-sizing: border-box;top: 0;bottom: 0;left: 50%;z-index: 0;}#sk-container-id-1 div.sk-serial {display: flex;flex-direction: column;align-items: center;background-color: white;padding-right: 0.2em;padding-left: 0.2em;position: relative;}#sk-container-id-1 div.sk-item {position: relative;z-index: 1;}#sk-container-id-1 div.sk-parallel {display: flex;align-items: stretch;justify-content: center;background-color: white;position: relative;}#sk-container-id-1 div.sk-item::before, #sk-container-id-1 div.sk-parallel-item::before {content: \"\";position: absolute;border-left: 1px solid gray;box-sizing: border-box;top: 0;bottom: 0;left: 50%;z-index: -1;}#sk-container-id-1 div.sk-parallel-item {display: flex;flex-direction: column;z-index: 1;position: relative;background-color: white;}#sk-container-id-1 div.sk-parallel-item:first-child::after {align-self: flex-end;width: 50%;}#sk-container-id-1 div.sk-parallel-item:last-child::after {align-self: flex-start;width: 50%;}#sk-container-id-1 div.sk-parallel-item:only-child::after {width: 0;}#sk-container-id-1 div.sk-dashed-wrapped {border: 1px dashed gray;margin: 0 0.4em 0.5em 0.4em;box-sizing: border-box;padding-bottom: 0.4em;background-color: white;}#sk-container-id-1 div.sk-label label {font-family: monospace;font-weight: bold;display: inline-block;line-height: 1.2em;}#sk-container-id-1 div.sk-label-container {text-align: center;}#sk-container-id-1 div.sk-container {/* jupyter's `normalize.less` sets `[hidden] { display: none; }` but bootstrap.min.css set `[hidden] { display: none !important; }` so we also need the `!important` here to be able to override the default hidden behavior on the sphinx rendered scikit-learn.org. See: https://github.com/scikit-learn/scikit-learn/issues/21755 */display: inline-block !important;position: relative;}#sk-container-id-1 div.sk-text-repr-fallback {display: none;}</style><div id=\"sk-container-id-1\" class=\"sk-top-container\"><div class=\"sk-text-repr-fallback\"><pre>GridSearchCV(cv=5,\n             estimator=Pipeline(steps=[(&#x27;preprocessor&#x27;,\n                                        ColumnTransformer(transformers=[(&#x27;num&#x27;,\n                                                                         StandardScaler(),\n                                                                         [&#x27;car_age&#x27;,\n                                                                          &#x27;km_driven_log&#x27;,\n                                                                          &#x27;mileage_num&#x27;,\n                                                                          &#x27;engine_vol_num&#x27;,\n                                                                          &#x27;max_power_log&#x27;,\n                                                                          &#x27;seats&#x27;]),\n                                                                        (&#x27;cat&#x27;,\n                                                                         OneHotEncoder(drop=&#x27;first&#x27;),\n                                                                         [&#x27;seller_type&#x27;,\n                                                                          &#x27;fuel&#x27;,\n                                                                          &#x27;transmission&#x27;,\n                                                                          &#x27;owner&#x27;,\n                                                                          &#x27;brand_segment&#x27;])])),\n                                       (&#x27;lasso&#x27;, Lasso())]),\n             param_grid={&#x27;lasso__alpha&#x27;: [1, 0.1, 0.01, 0.001, 0.0001, 1e-05,\n                                          1e-06, 1e-07]})</pre><b>In a Jupyter environment, please rerun this cell to show the HTML representation or trust the notebook. <br />On GitHub, the HTML representation is unable to render, please try loading this page with nbviewer.org.</b></div><div class=\"sk-container\" hidden><div class=\"sk-item sk-dashed-wrapped\"><div class=\"sk-label-container\"><div class=\"sk-label sk-toggleable\"><input class=\"sk-toggleable__control sk-hidden--visually\" id=\"sk-estimator-id-1\" type=\"checkbox\" ><label for=\"sk-estimator-id-1\" class=\"sk-toggleable__label sk-toggleable__label-arrow\">GridSearchCV</label><div class=\"sk-toggleable__content\"><pre>GridSearchCV(cv=5,\n             estimator=Pipeline(steps=[(&#x27;preprocessor&#x27;,\n                                        ColumnTransformer(transformers=[(&#x27;num&#x27;,\n                                                                         StandardScaler(),\n                                                                         [&#x27;car_age&#x27;,\n                                                                          &#x27;km_driven_log&#x27;,\n                                                                          &#x27;mileage_num&#x27;,\n                                                                          &#x27;engine_vol_num&#x27;,\n                                                                          &#x27;max_power_log&#x27;,\n                                                                          &#x27;seats&#x27;]),\n                                                                        (&#x27;cat&#x27;,\n                                                                         OneHotEncoder(drop=&#x27;first&#x27;),\n                                                                         [&#x27;seller_type&#x27;,\n                                                                          &#x27;fuel&#x27;,\n                                                                          &#x27;transmission&#x27;,\n                                                                          &#x27;owner&#x27;,\n                                                                          &#x27;brand_segment&#x27;])])),\n                                       (&#x27;lasso&#x27;, Lasso())]),\n             param_grid={&#x27;lasso__alpha&#x27;: [1, 0.1, 0.01, 0.001, 0.0001, 1e-05,\n                                          1e-06, 1e-07]})</pre></div></div></div><div class=\"sk-parallel\"><div class=\"sk-parallel-item\"><div class=\"sk-item\"><div class=\"sk-label-container\"><div class=\"sk-label sk-toggleable\"><input class=\"sk-toggleable__control sk-hidden--visually\" id=\"sk-estimator-id-2\" type=\"checkbox\" ><label for=\"sk-estimator-id-2\" class=\"sk-toggleable__label sk-toggleable__label-arrow\">estimator: Pipeline</label><div class=\"sk-toggleable__content\"><pre>Pipeline(steps=[(&#x27;preprocessor&#x27;,\n                 ColumnTransformer(transformers=[(&#x27;num&#x27;, StandardScaler(),\n                                                  [&#x27;car_age&#x27;, &#x27;km_driven_log&#x27;,\n                                                   &#x27;mileage_num&#x27;,\n                                                   &#x27;engine_vol_num&#x27;,\n                                                   &#x27;max_power_log&#x27;, &#x27;seats&#x27;]),\n                                                 (&#x27;cat&#x27;,\n                                                  OneHotEncoder(drop=&#x27;first&#x27;),\n                                                  [&#x27;seller_type&#x27;, &#x27;fuel&#x27;,\n                                                   &#x27;transmission&#x27;, &#x27;owner&#x27;,\n                                                   &#x27;brand_segment&#x27;])])),\n                (&#x27;lasso&#x27;, Lasso())])</pre></div></div></div><div class=\"sk-serial\"><div class=\"sk-item\"><div class=\"sk-serial\"><div class=\"sk-item sk-dashed-wrapped\"><div class=\"sk-label-container\"><div class=\"sk-label sk-toggleable\"><input class=\"sk-toggleable__control sk-hidden--visually\" id=\"sk-estimator-id-3\" type=\"checkbox\" ><label for=\"sk-estimator-id-3\" class=\"sk-toggleable__label sk-toggleable__label-arrow\">preprocessor: ColumnTransformer</label><div class=\"sk-toggleable__content\"><pre>ColumnTransformer(transformers=[(&#x27;num&#x27;, StandardScaler(),\n                                 [&#x27;car_age&#x27;, &#x27;km_driven_log&#x27;, &#x27;mileage_num&#x27;,\n                                  &#x27;engine_vol_num&#x27;, &#x27;max_power_log&#x27;, &#x27;seats&#x27;]),\n                                (&#x27;cat&#x27;, OneHotEncoder(drop=&#x27;first&#x27;),\n                                 [&#x27;seller_type&#x27;, &#x27;fuel&#x27;, &#x27;transmission&#x27;,\n                                  &#x27;owner&#x27;, &#x27;brand_segment&#x27;])])</pre></div></div></div><div class=\"sk-parallel\"><div class=\"sk-parallel-item\"><div class=\"sk-item\"><div class=\"sk-label-container\"><div class=\"sk-label sk-toggleable\"><input class=\"sk-toggleable__control sk-hidden--visually\" id=\"sk-estimator-id-4\" type=\"checkbox\" ><label for=\"sk-estimator-id-4\" class=\"sk-toggleable__label sk-toggleable__label-arrow\">num</label><div class=\"sk-toggleable__content\"><pre>[&#x27;car_age&#x27;, &#x27;km_driven_log&#x27;, &#x27;mileage_num&#x27;, &#x27;engine_vol_num&#x27;, &#x27;max_power_log&#x27;, &#x27;seats&#x27;]</pre></div></div></div><div class=\"sk-serial\"><div class=\"sk-item\"><div class=\"sk-estimator sk-toggleable\"><input class=\"sk-toggleable__control sk-hidden--visually\" id=\"sk-estimator-id-5\" type=\"checkbox\" ><label for=\"sk-estimator-id-5\" class=\"sk-toggleable__label sk-toggleable__label-arrow\">StandardScaler</label><div class=\"sk-toggleable__content\"><pre>StandardScaler()</pre></div></div></div></div></div></div><div class=\"sk-parallel-item\"><div class=\"sk-item\"><div class=\"sk-label-container\"><div class=\"sk-label sk-toggleable\"><input class=\"sk-toggleable__control sk-hidden--visually\" id=\"sk-estimator-id-6\" type=\"checkbox\" ><label for=\"sk-estimator-id-6\" class=\"sk-toggleable__label sk-toggleable__label-arrow\">cat</label><div class=\"sk-toggleable__content\"><pre>[&#x27;seller_type&#x27;, &#x27;fuel&#x27;, &#x27;transmission&#x27;, &#x27;owner&#x27;, &#x27;brand_segment&#x27;]</pre></div></div></div><div class=\"sk-serial\"><div class=\"sk-item\"><div class=\"sk-estimator sk-toggleable\"><input class=\"sk-toggleable__control sk-hidden--visually\" id=\"sk-estimator-id-7\" type=\"checkbox\" ><label for=\"sk-estimator-id-7\" class=\"sk-toggleable__label sk-toggleable__label-arrow\">OneHotEncoder</label><div class=\"sk-toggleable__content\"><pre>OneHotEncoder(drop=&#x27;first&#x27;)</pre></div></div></div></div></div></div></div></div><div class=\"sk-item\"><div class=\"sk-estimator sk-toggleable\"><input class=\"sk-toggleable__control sk-hidden--visually\" id=\"sk-estimator-id-8\" type=\"checkbox\" ><label for=\"sk-estimator-id-8\" class=\"sk-toggleable__label sk-toggleable__label-arrow\">Lasso</label><div class=\"sk-toggleable__content\"><pre>Lasso()</pre></div></div></div></div></div></div></div></div></div></div></div></div>"
     },
     "execution_count": 36,
     "metadata": {},
     "output_type": "execute_result"
    }
   ],
   "source": [
    "# Perform grid search within the pipeline\n",
    "grid_search = GridSearchCV(pipeline, param_grid, cv=5)\n",
    "grid_search.fit(X_train, y_train)"
   ]
  },
  {
   "cell_type": "code",
   "execution_count": 37,
   "id": "f0ac1be4-e325-47d2-b0eb-cd2e14437153",
   "metadata": {
    "ExecuteTime": {
     "end_time": "2023-08-28T23:10:19.457609Z",
     "start_time": "2023-08-28T23:10:19.372902Z"
    }
   },
   "outputs": [
    {
     "data": {
      "text/plain": "shape: (8, 14)\n┌───────────┬───────────┬───────────┬───────────┬───┬───────────┬───────────┬───────────┬──────────┐\n│ mean_fit_ ┆ std_fit_t ┆ mean_scor ┆ std_score ┆ … ┆ split4_te ┆ mean_test ┆ std_test_ ┆ rank_tes │\n│ time      ┆ ime       ┆ e_time    ┆ _time     ┆   ┆ st_score  ┆ _score    ┆ score     ┆ t_score  │\n│ ---       ┆ ---       ┆ ---       ┆ ---       ┆   ┆ ---       ┆ ---       ┆ ---       ┆ ---      │\n│ f64       ┆ f64       ┆ f64       ┆ f64       ┆   ┆ f64       ┆ f64       ┆ f64       ┆ i32      │\n╞═══════════╪═══════════╪═══════════╪═══════════╪═══╪═══════════╪═══════════╪═══════════╪══════════╡\n│ 0.013904  ┆ 0.00201   ┆ 0.005374  ┆ 0.00056   ┆ … ┆ -0.0033   ┆ -0.001783 ┆ 0.00129   ┆ 8        │\n│ 0.012432  ┆ 0.000316  ┆ 0.004554  ┆ 0.000171  ┆ … ┆ 0.810844  ┆ 0.808473  ┆ 0.00589   ┆ 7        │\n│ 0.020381  ┆ 0.009251  ┆ 0.004694  ┆ 0.000544  ┆ … ┆ 0.863741  ┆ 0.859493  ┆ 0.003589  ┆ 6        │\n│ 0.042599  ┆ 0.024664  ┆ 0.034433  ┆ 0.042125  ┆ … ┆ 0.869459  ┆ 0.865566  ┆ 0.003354  ┆ 5        │\n│ 0.027528  ┆ 0.007345  ┆ 0.006791  ┆ 0.00208   ┆ … ┆ 0.870544  ┆ 0.86634   ┆ 0.003097  ┆ 4        │\n│ 0.021663  ┆ 0.001284  ┆ 0.005189  ┆ 0.000542  ┆ … ┆ 0.870763  ┆ 0.866364  ┆ 0.003122  ┆ 1        │\n│ 0.033882  ┆ 0.004713  ┆ 0.005793  ┆ 0.001646  ┆ … ┆ 0.870773  ┆ 0.866364  ┆ 0.003121  ┆ 2        │\n│ 0.051554  ┆ 0.00586   ┆ 0.006213  ┆ 0.000859  ┆ … ┆ 0.870774  ┆ 0.866364  ┆ 0.003121  ┆ 3        │\n└───────────┴───────────┴───────────┴───────────┴───┴───────────┴───────────┴───────────┴──────────┘",
      "text/html": "<div><style>\n.dataframe > thead > tr > th,\n.dataframe > tbody > tr > td {\n  text-align: right;\n}\n</style>\n<small>shape: (8, 14)</small><table border=\"1\" class=\"dataframe\"><thead><tr><th>mean_fit_time</th><th>std_fit_time</th><th>mean_score_time</th><th>std_score_time</th><th>param_lasso__alpha</th><th>params</th><th>split0_test_score</th><th>split1_test_score</th><th>split2_test_score</th><th>split3_test_score</th><th>split4_test_score</th><th>mean_test_score</th><th>std_test_score</th><th>rank_test_score</th></tr><tr><td>f64</td><td>f64</td><td>f64</td><td>f64</td><td>object</td><td>struct[1]</td><td>f64</td><td>f64</td><td>f64</td><td>f64</td><td>f64</td><td>f64</td><td>f64</td><td>i32</td></tr></thead><tbody><tr><td>0.013904</td><td>0.00201</td><td>0.005374</td><td>0.00056</td><td>1</td><td>{1}</td><td>-0.000066</td><td>-0.000887</td><td>-0.003245</td><td>-0.001419</td><td>-0.0033</td><td>-0.001783</td><td>0.00129</td><td>8</td></tr><tr><td>0.012432</td><td>0.000316</td><td>0.004554</td><td>0.000171</td><td>0.1</td><td>{0}</td><td>0.812335</td><td>0.796774</td><td>0.811949</td><td>0.810464</td><td>0.810844</td><td>0.808473</td><td>0.00589</td><td>7</td></tr><tr><td>0.020381</td><td>0.009251</td><td>0.004694</td><td>0.000544</td><td>0.01</td><td>{0}</td><td>0.858934</td><td>0.857663</td><td>0.854038</td><td>0.863092</td><td>0.863741</td><td>0.859493</td><td>0.003589</td><td>6</td></tr><tr><td>0.042599</td><td>0.024664</td><td>0.034433</td><td>0.042125</td><td>0.001</td><td>{0}</td><td>0.8643</td><td>0.864505</td><td>0.860473</td><td>0.869091</td><td>0.869459</td><td>0.865566</td><td>0.003354</td><td>5</td></tr><tr><td>0.027528</td><td>0.007345</td><td>0.006791</td><td>0.00208</td><td>0.0001</td><td>{0}</td><td>0.86556</td><td>0.864096</td><td>0.86229</td><td>0.869207</td><td>0.870544</td><td>0.86634</td><td>0.003097</td><td>4</td></tr><tr><td>0.021663</td><td>0.001284</td><td>0.005189</td><td>0.000542</td><td>1e-05</td><td>{0}</td><td>0.865738</td><td>0.863816</td><td>0.862455</td><td>0.869048</td><td>0.870763</td><td>0.866364</td><td>0.003122</td><td>1</td></tr><tr><td>0.033882</td><td>0.004713</td><td>0.005793</td><td>0.001646</td><td>1e-06</td><td>{0}</td><td>0.865753</td><td>0.863787</td><td>0.862474</td><td>0.869032</td><td>0.870773</td><td>0.866364</td><td>0.003121</td><td>2</td></tr><tr><td>0.051554</td><td>0.00586</td><td>0.006213</td><td>0.000859</td><td>1e-07</td><td>{0}</td><td>0.865755</td><td>0.863784</td><td>0.862476</td><td>0.86903</td><td>0.870774</td><td>0.866364</td><td>0.003121</td><td>3</td></tr></tbody></table></div>"
     },
     "execution_count": 37,
     "metadata": {},
     "output_type": "execute_result"
    }
   ],
   "source": [
    "# scoring function for Lasso is R2\n",
    "# see: https://scikit-learn.org/stable/modules/generated/sklearn.linear_model.Lasso.html#sklearn.linear_model.Lasso.score\n",
    "pl.DataFrame(grid_search.cv_results_)"
   ]
  },
  {
   "cell_type": "code",
   "execution_count": 38,
   "id": "3c2421a9-c4a1-4d91-933b-5dbe21d1fb47",
   "metadata": {
    "ExecuteTime": {
     "end_time": "2023-08-28T23:10:19.541148Z",
     "start_time": "2023-08-28T23:10:19.449680Z"
    }
   },
   "outputs": [
    {
     "data": {
      "text/plain": "{'lasso__alpha': 1e-05}"
     },
     "execution_count": 38,
     "metadata": {},
     "output_type": "execute_result"
    }
   ],
   "source": [
    "grid_search.best_params_"
   ]
  },
  {
   "cell_type": "code",
   "execution_count": 39,
   "id": "ad5e8637-0981-4b9b-8e29-9f8fd3ad7fe2",
   "metadata": {
    "ExecuteTime": {
     "end_time": "2023-08-28T23:10:19.576869Z",
     "start_time": "2023-08-28T23:10:19.502169Z"
    }
   },
   "outputs": [],
   "source": [
    "best_model = grid_search.best_estimator_"
   ]
  },
  {
   "cell_type": "code",
   "execution_count": 40,
   "id": "1cffc082-a501-47cf-86fb-f05df6e4ae8a",
   "metadata": {
    "ExecuteTime": {
     "end_time": "2023-08-28T23:10:19.628207Z",
     "start_time": "2023-08-28T23:10:19.553347Z"
    }
   },
   "outputs": [
    {
     "name": "stdout",
     "output_type": "stream",
     "text": [
      "Validation score: 0.8620288602165269\n"
     ]
    }
   ],
   "source": [
    "# Evaluate on validation data\n",
    "val_score = best_model.score(X_val, y_val)\n",
    "print(f\"Validation score: {val_score}\")"
   ]
  },
  {
   "cell_type": "code",
   "execution_count": 41,
   "id": "a292e97c-2086-416e-8824-04a8571a8fce",
   "metadata": {
    "ExecuteTime": {
     "end_time": "2023-08-28T23:10:19.673851Z",
     "start_time": "2023-08-28T23:10:19.620503Z"
    }
   },
   "outputs": [],
   "source": [
    "feature_names = get_feature_names(best_model.named_steps[\"preprocessor\"])\n",
    "feature_coefs = best_model.named_steps[\"lasso\"].coef_"
   ]
  },
  {
   "cell_type": "code",
   "execution_count": 42,
   "id": "eb677783-cde7-453f-bd59-25bf8b9cbbe8",
   "metadata": {
    "ExecuteTime": {
     "end_time": "2023-08-28T23:10:19.712643Z",
     "start_time": "2023-08-28T23:10:19.663168Z"
    }
   },
   "outputs": [],
   "source": [
    "df_coefficients = (\n",
    "    pl.DataFrame({\"f\": feature_names, \"coef\": feature_coefs})\n",
    "    .with_columns(\n",
    "        [\n",
    "            pl.col(\"f\").str.extract(r\"^([a-z]+)__.*$\", 1).alias(\"feature_type\"),\n",
    "            pl.when(pl.col(\"f\").str.starts_with(\"cat\"))\n",
    "            .then(pl.col(\"f\").str.extract(r\"^([a-z]+)__([a-z_]+)_.*$\", 2))\n",
    "            .otherwise(pl.col(\"f\").str.extract(r\"^([a-z]+)__([a-z_]+)$\", 2))\n",
    "            .alias(\"feature\"),\n",
    "            pl.when(pl.col(\"f\").str.starts_with(\"cat\"))\n",
    "            .then(pl.col(\"f\").str.extract(r\"^([a-z]+)__([a-z_]+)_(.*)$\", 3))\n",
    "            .alias(\"category\"),\n",
    "        ]\n",
    "    )\n",
    "    .select([\"feature\", \"category\", \"feature_type\", \"coef\"])\n",
    ")"
   ]
  },
  {
   "cell_type": "code",
   "execution_count": 43,
   "id": "d1d9dff0-8d28-4d36-b0e3-8e59cf25f6b8",
   "metadata": {
    "ExecuteTime": {
     "end_time": "2023-08-28T23:10:19.771843Z",
     "start_time": "2023-08-28T23:10:19.713867Z"
    }
   },
   "outputs": [],
   "source": [
    "# find reference categories\n",
    "dropped_data = []\n",
    "for cf in categorical_features:\n",
    "    unique_categories = list(df[cf].unique())\n",
    "    categories_with_coef = list(\n",
    "        df_coefficients.filter(pl.col(\"feature\") == cf)[\"category\"]\n",
    "    )\n",
    "    dropped_category = [c for c in unique_categories if c not in categories_with_coef]\n",
    "    dropped_data.append(\n",
    "        {\n",
    "            \"feature\": cf,\n",
    "            \"category\": dropped_category[0],\n",
    "            \"feature_type\": \"cat\",\n",
    "            \"coef\": 0.0,\n",
    "        }\n",
    "    )"
   ]
  },
  {
   "cell_type": "code",
   "execution_count": 44,
   "id": "0bd822e8-c223-4fa9-97b8-10d75fc338cf",
   "metadata": {
    "ExecuteTime": {
     "end_time": "2023-08-28T23:10:19.811276Z",
     "start_time": "2023-08-28T23:10:19.775318Z"
    }
   },
   "outputs": [],
   "source": [
    "df_dropped = pl.DataFrame(dropped_data)"
   ]
  },
  {
   "cell_type": "code",
   "execution_count": 45,
   "id": "35bb8dd6-4acf-47f9-ae09-5c334238a64e",
   "metadata": {
    "ExecuteTime": {
     "end_time": "2023-08-28T23:10:19.847767Z",
     "start_time": "2023-08-28T23:10:19.811571Z"
    }
   },
   "outputs": [],
   "source": [
    "df_coefficients = pl.concat([df_coefficients, df_dropped]).sort(\n",
    "    by=[\"feature\", \"category\"]\n",
    ")"
   ]
  },
  {
   "cell_type": "code",
   "execution_count": 46,
   "id": "498b0ba8-f83c-41ed-9fb4-7f96d372f590",
   "metadata": {
    "ExecuteTime": {
     "end_time": "2023-08-28T23:10:19.884787Z",
     "start_time": "2023-08-28T23:10:19.841253Z"
    }
   },
   "outputs": [
    {
     "data": {
      "text/plain": "shape: (24, 4)\n┌───────────────┬──────────────────┬──────────────┬───────────┐\n│ feature       ┆ category         ┆ feature_type ┆ coef      │\n│ ---           ┆ ---              ┆ ---          ┆ ---       │\n│ str           ┆ str              ┆ str          ┆ f64       │\n╞═══════════════╪══════════════════╪══════════════╪═══════════╡\n│ brand_segment ┆ Europe/US        ┆ cat          ┆ 0.0       │\n│ brand_segment ┆ India            ┆ cat          ┆ -0.008655 │\n│ brand_segment ┆ Japan/Korea      ┆ cat          ┆ 0.062624  │\n│ brand_segment ┆ other            ┆ cat          ┆ -0.070182 │\n│ …             ┆ …                ┆ …            ┆ …         │\n│ seller_type   ┆ Individual       ┆ cat          ┆ -0.109456 │\n│ seller_type   ┆ Trustmark Dealer ┆ cat          ┆ -0.08657  │\n│ transmission  ┆ Automatic        ┆ cat          ┆ 0.0       │\n│ transmission  ┆ Manual           ┆ cat          ┆ -0.282265 │\n└───────────────┴──────────────────┴──────────────┴───────────┘",
      "text/html": "<div><style>\n.dataframe > thead > tr > th,\n.dataframe > tbody > tr > td {\n  text-align: right;\n}\n</style>\n<small>shape: (24, 4)</small><table border=\"1\" class=\"dataframe\"><thead><tr><th>feature</th><th>category</th><th>feature_type</th><th>coef</th></tr><tr><td>str</td><td>str</td><td>str</td><td>f64</td></tr></thead><tbody><tr><td>&quot;brand_segment&quot;</td><td>&quot;Europe/US&quot;</td><td>&quot;cat&quot;</td><td>0.0</td></tr><tr><td>&quot;brand_segment&quot;</td><td>&quot;India&quot;</td><td>&quot;cat&quot;</td><td>-0.008655</td></tr><tr><td>&quot;brand_segment&quot;</td><td>&quot;Japan/Korea&quot;</td><td>&quot;cat&quot;</td><td>0.062624</td></tr><tr><td>&quot;brand_segment&quot;</td><td>&quot;other&quot;</td><td>&quot;cat&quot;</td><td>-0.070182</td></tr><tr><td>&quot;car_age&quot;</td><td>null</td><td>&quot;num&quot;</td><td>-0.384198</td></tr><tr><td>&quot;engine_vol_num…</td><td>null</td><td>&quot;num&quot;</td><td>0.155269</td></tr><tr><td>&quot;fuel&quot;</td><td>&quot;CNG&quot;</td><td>&quot;cat&quot;</td><td>0.0</td></tr><tr><td>&quot;fuel&quot;</td><td>&quot;Diesel&quot;</td><td>&quot;cat&quot;</td><td>0.118906</td></tr><tr><td>&quot;fuel&quot;</td><td>&quot;LPG&quot;</td><td>&quot;cat&quot;</td><td>0.166145</td></tr><tr><td>&quot;fuel&quot;</td><td>&quot;Petrol&quot;</td><td>&quot;cat&quot;</td><td>-0.041045</td></tr><tr><td>&quot;km_driven_log&quot;</td><td>null</td><td>&quot;num&quot;</td><td>-0.065801</td></tr><tr><td>&quot;max_power_log&quot;</td><td>null</td><td>&quot;num&quot;</td><td>0.306425</td></tr><tr><td>&quot;mileage_num&quot;</td><td>null</td><td>&quot;num&quot;</td><td>0.056383</td></tr><tr><td>&quot;owner&quot;</td><td>&quot;First Owner&quot;</td><td>&quot;cat&quot;</td><td>0.0</td></tr><tr><td>&quot;owner&quot;</td><td>&quot;Fourth &amp; Above…</td><td>&quot;cat&quot;</td><td>-0.119137</td></tr><tr><td>&quot;owner&quot;</td><td>&quot;Second Owner&quot;</td><td>&quot;cat&quot;</td><td>-0.067428</td></tr><tr><td>&quot;owner&quot;</td><td>&quot;Test Drive Car…</td><td>&quot;cat&quot;</td><td>0.670761</td></tr><tr><td>&quot;owner&quot;</td><td>&quot;Third Owner&quot;</td><td>&quot;cat&quot;</td><td>-0.109115</td></tr><tr><td>&quot;seats&quot;</td><td>null</td><td>&quot;num&quot;</td><td>0.019385</td></tr><tr><td>&quot;seller_type&quot;</td><td>&quot;Dealer&quot;</td><td>&quot;cat&quot;</td><td>0.0</td></tr><tr><td>&quot;seller_type&quot;</td><td>&quot;Individual&quot;</td><td>&quot;cat&quot;</td><td>-0.109456</td></tr><tr><td>&quot;seller_type&quot;</td><td>&quot;Trustmark Deal…</td><td>&quot;cat&quot;</td><td>-0.08657</td></tr><tr><td>&quot;transmission&quot;</td><td>&quot;Automatic&quot;</td><td>&quot;cat&quot;</td><td>0.0</td></tr><tr><td>&quot;transmission&quot;</td><td>&quot;Manual&quot;</td><td>&quot;cat&quot;</td><td>-0.282265</td></tr></tbody></table></div>"
     },
     "execution_count": 46,
     "metadata": {},
     "output_type": "execute_result"
    }
   ],
   "source": [
    "df_coefficients"
   ]
  },
  {
   "cell_type": "code",
   "execution_count": 47,
   "id": "6afb19ca-72fe-469b-b454-e40cc3e29d6e",
   "metadata": {
    "ExecuteTime": {
     "end_time": "2023-08-28T23:10:19.981917Z",
     "start_time": "2023-08-28T23:10:19.886283Z"
    }
   },
   "outputs": [],
   "source": [
    "df = (\n",
    "    df.with_columns(\n",
    "        pl.Series(name=\"predicted_selling_price_log\", values=best_model.predict(X))\n",
    "    )\n",
    "    .with_columns(\n",
    "        pl.col(\"predicted_selling_price_log\")\n",
    "        .apply(np.exp)\n",
    "        .alias(\"predicted_selling_price\")\n",
    "    )\n",
    "    .with_columns(\n",
    "        (pl.col(\"predicted_selling_price_log\") - pl.col(\"selling_price_log\")).alias(\n",
    "            \"selling_price_log_diff\"\n",
    "        )\n",
    "    )\n",
    ")"
   ]
  },
  {
   "cell_type": "code",
   "execution_count": 48,
   "id": "eac92310-1391-444e-bfcb-cca993be843e",
   "metadata": {
    "ExecuteTime": {
     "end_time": "2023-08-28T23:10:20.176076Z",
     "start_time": "2023-08-28T23:10:19.948230Z"
    }
   },
   "outputs": [
    {
     "data": {
      "text/plain": "<matplotlib.collections.PathCollection at 0x7fe271b5bd90>"
     },
     "execution_count": 48,
     "metadata": {},
     "output_type": "execute_result"
    },
    {
     "data": {
      "text/plain": "<Figure size 640x480 with 1 Axes>",
      "image/png": "[encoded data removed]"
     },
     "metadata": {},
     "output_type": "display_data"
    }
   ],
   "source": [
    "plt.scatter(x=df[\"selling_price_log\"], y=df[\"predicted_selling_price_log\"])"
   ]
  },
  {
   "cell_type": "code",
   "execution_count": 49,
   "id": "3c99ea20-b99b-4417-a9eb-c1002321714c",
   "metadata": {
    "ExecuteTime": {
     "end_time": "2023-08-28T23:10:20.377346Z",
     "start_time": "2023-08-28T23:10:20.177053Z"
    }
   },
   "outputs": [
    {
     "data": {
      "text/plain": "<matplotlib.collections.PathCollection at 0x7fe2737f4d00>"
     },
     "execution_count": 49,
     "metadata": {},
     "output_type": "execute_result"
    },
    {
     "data": {
      "text/plain": "<Figure size 640x480 with 1 Axes>",
      "image/png": "[encoded data removed]"
     },
     "metadata": {},
     "output_type": "display_data"
    }
   ],
   "source": [
    "plt.scatter(x=df[\"selling_price\"], y=df[\"predicted_selling_price\"])"
   ]
  },
  {
   "cell_type": "code",
   "execution_count": 50,
   "id": "1e14810c-5fc6-41ba-b0da-2d905fe76330",
   "metadata": {
    "ExecuteTime": {
     "end_time": "2023-08-28T23:10:20.636779Z",
     "start_time": "2023-08-28T23:10:20.379980Z"
    }
   },
   "outputs": [
    {
     "data": {
      "text/plain": "<Figure size 640x480 with 1 Axes>",
      "image/png": "[encoded data removed]"
     },
     "metadata": {},
     "output_type": "display_data"
    }
   ],
   "source": [
    "# `selling_price_log_diff` is a measure of the price convenience\n",
    "# high values indicate that the predicted price (based on the car features) is higher than the actual price\n",
    "fig = plt.hist(df[\"selling_price_log_diff\"], bins=50)"
   ]
  },
  {
   "cell_type": "markdown",
   "id": "538e0734-7e2b-4e2d-b7b0-1886a2ea29dd",
   "metadata": {},
   "source": [
    "## Recommendation engine\n",
    "\n",
    "The content-based recommendation engine will be used. We are looking for products (cars) with as similar features as possible."
   ]
  },
  {
   "cell_type": "code",
   "execution_count": 51,
   "id": "a7b7b351-0606-4f29-a4f0-6c5287080554",
   "metadata": {
    "ExecuteTime": {
     "end_time": "2023-08-28T23:10:20.695405Z",
     "start_time": "2023-08-28T23:10:20.641860Z"
    }
   },
   "outputs": [],
   "source": [
    "# create a pipeline\n",
    "reco_numeric_features = [\n",
    "    \"car_age\",\n",
    "    \"km_driven_log\",\n",
    "    \"mileage_num\",\n",
    "    \"engine_vol_num\",\n",
    "    \"max_power_log\",\n",
    "    \"seats\",\n",
    "]\n",
    "reco_categorical_features = [\n",
    "    \"company\",\n",
    "    \"country\",\n",
    "    \"region\",\n",
    "    \"seller_type\",\n",
    "    \"fuel\",\n",
    "    \"transmission\",\n",
    "    \"owner\",\n",
    "    \"brand_segment\",\n",
    "]\n",
    "reco_all_features = reco_numeric_features + reco_categorical_features"
   ]
  },
  {
   "cell_type": "code",
   "execution_count": 52,
   "id": "df982127-fdbd-451b-8ec2-536132c8d2af",
   "metadata": {
    "ExecuteTime": {
     "end_time": "2023-08-28T23:10:20.708705Z",
     "start_time": "2023-08-28T23:10:20.674850Z"
    }
   },
   "outputs": [],
   "source": [
    "X = df.select(reco_all_features).to_pandas()"
   ]
  },
  {
   "cell_type": "code",
   "execution_count": 53,
   "id": "963b4de2-7f84-44e4-b933-58d82978b580",
   "metadata": {
    "ExecuteTime": {
     "end_time": "2023-08-28T23:10:20.741570Z",
     "start_time": "2023-08-28T23:10:20.709715Z"
    }
   },
   "outputs": [],
   "source": [
    "reco_preprocessor = ColumnTransformer(\n",
    "    transformers=[\n",
    "        (\"num\", StandardScaler(), reco_numeric_features),\n",
    "        (\"cat\", OneHotEncoder(), reco_categorical_features),  # do not drop any category\n",
    "    ]\n",
    ")"
   ]
  },
  {
   "cell_type": "code",
   "execution_count": 54,
   "id": "0cb6b33d-30cd-44fe-9ccb-295fe8038708",
   "metadata": {
    "ExecuteTime": {
     "end_time": "2023-08-28T23:10:20.774900Z",
     "start_time": "2023-08-28T23:10:20.741810Z"
    }
   },
   "outputs": [],
   "source": [
    "nearest_neighbors = NearestNeighbors(n_neighbors=1000)"
   ]
  },
  {
   "cell_type": "code",
   "execution_count": 55,
   "id": "59901438-bc81-4222-8a4b-597c6a3f18b3",
   "metadata": {
    "ExecuteTime": {
     "end_time": "2023-08-28T23:10:20.809446Z",
     "start_time": "2023-08-28T23:10:20.769950Z"
    }
   },
   "outputs": [],
   "source": [
    "# Create the pipeline with preprocessing and Lasso regression\n",
    "reco_pipeline = Pipeline(\n",
    "    steps=[\n",
    "        (\"preprocessor\", reco_preprocessor),\n",
    "        (\"nearest_neighbors\", nearest_neighbors),\n",
    "    ]\n",
    ")"
   ]
  },
  {
   "cell_type": "code",
   "execution_count": 56,
   "id": "fe918a6e-8242-4080-84c0-1e3bd2076989",
   "metadata": {
    "ExecuteTime": {
     "end_time": "2023-08-28T23:10:20.866169Z",
     "start_time": "2023-08-28T23:10:20.800374Z"
    }
   },
   "outputs": [
    {
     "data": {
      "text/plain": "Pipeline(steps=[('preprocessor',\n                 ColumnTransformer(transformers=[('num', StandardScaler(),\n                                                  ['car_age', 'km_driven_log',\n                                                   'mileage_num',\n                                                   'engine_vol_num',\n                                                   'max_power_log', 'seats']),\n                                                 ('cat', OneHotEncoder(),\n                                                  ['company', 'country',\n                                                   'region', 'seller_type',\n                                                   'fuel', 'transmission',\n                                                   'owner',\n                                                   'brand_segment'])])),\n                ('nearest_neighbors', NearestNeighbors(n_neighbors=1000))])",
      "text/html": "<style>#sk-container-id-2 {color: black;}#sk-container-id-2 pre{padding: 0;}#sk-container-id-2 div.sk-toggleable {background-color: white;}#sk-container-id-2 label.sk-toggleable__label {cursor: pointer;display: block;width: 100%;margin-bottom: 0;padding: 0.3em;box-sizing: border-box;text-align: center;}#sk-container-id-2 label.sk-toggleable__label-arrow:before {content: \"▸\";float: left;margin-right: 0.25em;color: #696969;}#sk-container-id-2 label.sk-toggleable__label-arrow:hover:before {color: black;}#sk-container-id-2 div.sk-estimator:hover label.sk-toggleable__label-arrow:before {color: black;}#sk-container-id-2 div.sk-toggleable__content {max-height: 0;max-width: 0;overflow: hidden;text-align: left;background-color: #f0f8ff;}#sk-container-id-2 div.sk-toggleable__content pre {margin: 0.2em;color: black;border-radius: 0.25em;background-color: #f0f8ff;}#sk-container-id-2 input.sk-toggleable__control:checked~div.sk-toggleable__content {max-height: 200px;max-width: 100%;overflow: auto;}#sk-container-id-2 input.sk-toggleable__control:checked~label.sk-toggleable__label-arrow:before {content: \"▾\";}#sk-container-id-2 div.sk-estimator input.sk-toggleable__control:checked~label.sk-toggleable__label {background-color: #d4ebff;}#sk-container-id-2 div.sk-label input.sk-toggleable__control:checked~label.sk-toggleable__label {background-color: #d4ebff;}#sk-container-id-2 input.sk-hidden--visually {border: 0;clip: rect(1px 1px 1px 1px);clip: rect(1px, 1px, 1px, 1px);height: 1px;margin: -1px;overflow: hidden;padding: 0;position: absolute;width: 1px;}#sk-container-id-2 div.sk-estimator {font-family: monospace;background-color: #f0f8ff;border: 1px dotted black;border-radius: 0.25em;box-sizing: border-box;margin-bottom: 0.5em;}#sk-container-id-2 div.sk-estimator:hover {background-color: #d4ebff;}#sk-container-id-2 div.sk-parallel-item::after {content: \"\";width: 100%;border-bottom: 1px solid gray;flex-grow: 1;}#sk-container-id-2 div.sk-label:hover label.sk-toggleable__label {background-color: #d4ebff;}#sk-container-id-2 div.sk-serial::before {content: \"\";position: absolute;border-left: 1px solid gray;box-sizing: border-box;top: 0;bottom: 0;left: 50%;z-index: 0;}#sk-container-id-2 div.sk-serial {display: flex;flex-direction: column;align-items: center;background-color: white;padding-right: 0.2em;padding-left: 0.2em;position: relative;}#sk-container-id-2 div.sk-item {position: relative;z-index: 1;}#sk-container-id-2 div.sk-parallel {display: flex;align-items: stretch;justify-content: center;background-color: white;position: relative;}#sk-container-id-2 div.sk-item::before, #sk-container-id-2 div.sk-parallel-item::before {content: \"\";position: absolute;border-left: 1px solid gray;box-sizing: border-box;top: 0;bottom: 0;left: 50%;z-index: -1;}#sk-container-id-2 div.sk-parallel-item {display: flex;flex-direction: column;z-index: 1;position: relative;background-color: white;}#sk-container-id-2 div.sk-parallel-item:first-child::after {align-self: flex-end;width: 50%;}#sk-container-id-2 div.sk-parallel-item:last-child::after {align-self: flex-start;width: 50%;}#sk-container-id-2 div.sk-parallel-item:only-child::after {width: 0;}#sk-container-id-2 div.sk-dashed-wrapped {border: 1px dashed gray;margin: 0 0.4em 0.5em 0.4em;box-sizing: border-box;padding-bottom: 0.4em;background-color: white;}#sk-container-id-2 div.sk-label label {font-family: monospace;font-weight: bold;display: inline-block;line-height: 1.2em;}#sk-container-id-2 div.sk-label-container {text-align: center;}#sk-container-id-2 div.sk-container {/* jupyter's `normalize.less` sets `[hidden] { display: none; }` but bootstrap.min.css set `[hidden] { display: none !important; }` so we also need the `!important` here to be able to override the default hidden behavior on the sphinx rendered scikit-learn.org. See: https://github.com/scikit-learn/scikit-learn/issues/21755 */display: inline-block !important;position: relative;}#sk-container-id-2 div.sk-text-repr-fallback {display: none;}</style><div id=\"sk-container-id-2\" class=\"sk-top-container\"><div class=\"sk-text-repr-fallback\"><pre>Pipeline(steps=[(&#x27;preprocessor&#x27;,\n                 ColumnTransformer(transformers=[(&#x27;num&#x27;, StandardScaler(),\n                                                  [&#x27;car_age&#x27;, &#x27;km_driven_log&#x27;,\n                                                   &#x27;mileage_num&#x27;,\n                                                   &#x27;engine_vol_num&#x27;,\n                                                   &#x27;max_power_log&#x27;, &#x27;seats&#x27;]),\n                                                 (&#x27;cat&#x27;, OneHotEncoder(),\n                                                  [&#x27;company&#x27;, &#x27;country&#x27;,\n                                                   &#x27;region&#x27;, &#x27;seller_type&#x27;,\n                                                   &#x27;fuel&#x27;, &#x27;transmission&#x27;,\n                                                   &#x27;owner&#x27;,\n                                                   &#x27;brand_segment&#x27;])])),\n                (&#x27;nearest_neighbors&#x27;, NearestNeighbors(n_neighbors=1000))])</pre><b>In a Jupyter environment, please rerun this cell to show the HTML representation or trust the notebook. <br />On GitHub, the HTML representation is unable to render, please try loading this page with nbviewer.org.</b></div><div class=\"sk-container\" hidden><div class=\"sk-item sk-dashed-wrapped\"><div class=\"sk-label-container\"><div class=\"sk-label sk-toggleable\"><input class=\"sk-toggleable__control sk-hidden--visually\" id=\"sk-estimator-id-9\" type=\"checkbox\" ><label for=\"sk-estimator-id-9\" class=\"sk-toggleable__label sk-toggleable__label-arrow\">Pipeline</label><div class=\"sk-toggleable__content\"><pre>Pipeline(steps=[(&#x27;preprocessor&#x27;,\n                 ColumnTransformer(transformers=[(&#x27;num&#x27;, StandardScaler(),\n                                                  [&#x27;car_age&#x27;, &#x27;km_driven_log&#x27;,\n                                                   &#x27;mileage_num&#x27;,\n                                                   &#x27;engine_vol_num&#x27;,\n                                                   &#x27;max_power_log&#x27;, &#x27;seats&#x27;]),\n                                                 (&#x27;cat&#x27;, OneHotEncoder(),\n                                                  [&#x27;company&#x27;, &#x27;country&#x27;,\n                                                   &#x27;region&#x27;, &#x27;seller_type&#x27;,\n                                                   &#x27;fuel&#x27;, &#x27;transmission&#x27;,\n                                                   &#x27;owner&#x27;,\n                                                   &#x27;brand_segment&#x27;])])),\n                (&#x27;nearest_neighbors&#x27;, NearestNeighbors(n_neighbors=1000))])</pre></div></div></div><div class=\"sk-serial\"><div class=\"sk-item sk-dashed-wrapped\"><div class=\"sk-label-container\"><div class=\"sk-label sk-toggleable\"><input class=\"sk-toggleable__control sk-hidden--visually\" id=\"sk-estimator-id-10\" type=\"checkbox\" ><label for=\"sk-estimator-id-10\" class=\"sk-toggleable__label sk-toggleable__label-arrow\">preprocessor: ColumnTransformer</label><div class=\"sk-toggleable__content\"><pre>ColumnTransformer(transformers=[(&#x27;num&#x27;, StandardScaler(),\n                                 [&#x27;car_age&#x27;, &#x27;km_driven_log&#x27;, &#x27;mileage_num&#x27;,\n                                  &#x27;engine_vol_num&#x27;, &#x27;max_power_log&#x27;, &#x27;seats&#x27;]),\n                                (&#x27;cat&#x27;, OneHotEncoder(),\n                                 [&#x27;company&#x27;, &#x27;country&#x27;, &#x27;region&#x27;, &#x27;seller_type&#x27;,\n                                  &#x27;fuel&#x27;, &#x27;transmission&#x27;, &#x27;owner&#x27;,\n                                  &#x27;brand_segment&#x27;])])</pre></div></div></div><div class=\"sk-parallel\"><div class=\"sk-parallel-item\"><div class=\"sk-item\"><div class=\"sk-label-container\"><div class=\"sk-label sk-toggleable\"><input class=\"sk-toggleable__control sk-hidden--visually\" id=\"sk-estimator-id-11\" type=\"checkbox\" ><label for=\"sk-estimator-id-11\" class=\"sk-toggleable__label sk-toggleable__label-arrow\">num</label><div class=\"sk-toggleable__content\"><pre>[&#x27;car_age&#x27;, &#x27;km_driven_log&#x27;, &#x27;mileage_num&#x27;, &#x27;engine_vol_num&#x27;, &#x27;max_power_log&#x27;, &#x27;seats&#x27;]</pre></div></div></div><div class=\"sk-serial\"><div class=\"sk-item\"><div class=\"sk-estimator sk-toggleable\"><input class=\"sk-toggleable__control sk-hidden--visually\" id=\"sk-estimator-id-12\" type=\"checkbox\" ><label for=\"sk-estimator-id-12\" class=\"sk-toggleable__label sk-toggleable__label-arrow\">StandardScaler</label><div class=\"sk-toggleable__content\"><pre>StandardScaler()</pre></div></div></div></div></div></div><div class=\"sk-parallel-item\"><div class=\"sk-item\"><div class=\"sk-label-container\"><div class=\"sk-label sk-toggleable\"><input class=\"sk-toggleable__control sk-hidden--visually\" id=\"sk-estimator-id-13\" type=\"checkbox\" ><label for=\"sk-estimator-id-13\" class=\"sk-toggleable__label sk-toggleable__label-arrow\">cat</label><div class=\"sk-toggleable__content\"><pre>[&#x27;company&#x27;, &#x27;country&#x27;, &#x27;region&#x27;, &#x27;seller_type&#x27;, &#x27;fuel&#x27;, &#x27;transmission&#x27;, &#x27;owner&#x27;, &#x27;brand_segment&#x27;]</pre></div></div></div><div class=\"sk-serial\"><div class=\"sk-item\"><div class=\"sk-estimator sk-toggleable\"><input class=\"sk-toggleable__control sk-hidden--visually\" id=\"sk-estimator-id-14\" type=\"checkbox\" ><label for=\"sk-estimator-id-14\" class=\"sk-toggleable__label sk-toggleable__label-arrow\">OneHotEncoder</label><div class=\"sk-toggleable__content\"><pre>OneHotEncoder()</pre></div></div></div></div></div></div></div></div><div class=\"sk-item\"><div class=\"sk-estimator sk-toggleable\"><input class=\"sk-toggleable__control sk-hidden--visually\" id=\"sk-estimator-id-15\" type=\"checkbox\" ><label for=\"sk-estimator-id-15\" class=\"sk-toggleable__label sk-toggleable__label-arrow\">NearestNeighbors</label><div class=\"sk-toggleable__content\"><pre>NearestNeighbors(n_neighbors=1000)</pre></div></div></div></div></div></div></div>"
     },
     "execution_count": 56,
     "metadata": {},
     "output_type": "execute_result"
    }
   ],
   "source": [
    "reco_pipeline.fit(X)"
   ]
  },
  {
   "cell_type": "code",
   "execution_count": 57,
   "id": "fe625469-1bfb-49db-be71-7b6ad949b52e",
   "metadata": {
    "ExecuteTime": {
     "end_time": "2023-08-28T23:10:24.482854Z",
     "start_time": "2023-08-28T23:10:20.865214Z"
    }
   },
   "outputs": [],
   "source": [
    "# Use the pipeline to find the nearest neighbors for the query point\n",
    "distances, indices = reco_pipeline.named_steps[\"nearest_neighbors\"].kneighbors(\n",
    "    reco_pipeline.named_steps[\"preprocessor\"].transform(X)\n",
    ")"
   ]
  },
  {
   "cell_type": "markdown",
   "id": "a6b5a97d626ba5e0",
   "metadata": {
    "collapsed": false
   },
   "source": [
    "## Recommender demo\n",
    "\n",
    "Select any row number from `df` and the recommendations for this row will be generated.\n",
    "\n",
    "You may apply the following business rules:\n",
    "- Set `same_company = True` to prefer the cars from the same company\n",
    "- Set `better_price = True` to prefer the cars that have better price than the current car (measured by `selling_price_log_diff`)\n",
    "- Set `max_price_ratio = 0.1` to prefer cars with price within range +-10% of the current car selling price \n",
    "- Set `n_recommendations` to display the selected number of recommendations  \n",
    "\n",
    "The pandas dataframe formatter demonstrates the highlighting feature of the tool: red-highlighted features are those that are poorer than the current car and green-highlighted ones are those that are better. The recommender aims to find a car with a better price / quality ratio and highlight the features that are different from the currently viewed car. "
   ]
  },
  {
   "cell_type": "code",
   "execution_count": 58,
   "id": "ab99ebc98e37c9d",
   "metadata": {
    "ExecuteTime": {
     "end_time": "2023-08-28T23:10:24.532773Z",
     "start_time": "2023-08-28T23:10:24.483768Z"
    }
   },
   "outputs": [],
   "source": [
    "row_nr = 500\n",
    "same_company = True  # prefer cars from the same company\n",
    "better_price = True  # prefer cars with the better price\n",
    "max_price_ratio = 0.3  # prefer cars with price within range +-30% from the current one,\n",
    "# will be ignored when None\n",
    "n_recommendations = 3  # display 3 recommendations"
   ]
  },
  {
   "cell_type": "code",
   "execution_count": 59,
   "id": "c746f97cb4e52dd4",
   "metadata": {
    "collapsed": false,
    "ExecuteTime": {
     "end_time": "2023-08-28T23:10:24.570002Z",
     "start_time": "2023-08-28T23:10:24.534710Z"
    }
   },
   "outputs": [],
   "source": [
    "sort_by = []\n",
    "sort_by_descending = []\n",
    "if same_company:\n",
    "    sort_by.append(\"same_company\")\n",
    "    sort_by_descending.append(True)\n",
    "if better_price:\n",
    "    sort_by.append(\"better_price\")\n",
    "    sort_by_descending.append(True)\n",
    "if max_price_ratio is not None:\n",
    "    sort_by.append(\"price_in_range\")\n",
    "    sort_by_descending.append(True)\n",
    "sort_by.append(\"distance\")\n",
    "sort_by_descending.append(False)"
   ]
  },
  {
   "cell_type": "code",
   "execution_count": 60,
   "id": "4ac8ddc4-8ce2-4e07-82da-0783cca67808",
   "metadata": {
    "collapsed": false,
    "ExecuteTime": {
     "end_time": "2023-08-28T23:10:24.617703Z",
     "start_time": "2023-08-28T23:10:24.571445Z"
    }
   },
   "outputs": [],
   "source": [
    "recommendations = [\n",
    "    {\"item\": i, \"distance\": d}\n",
    "    for i, d in zip(indices[row_nr], distances[row_nr])\n",
    "    if d > 0  # exclude cars with the same attributes (might be a different recommender)\n",
    "]\n",
    "recommended_items = [r[\"item\"] for r in recommendations]\n",
    "recommended_items_distances = [r[\"distance\"] for r in recommendations]"
   ]
  },
  {
   "cell_type": "code",
   "execution_count": 61,
   "id": "5e42fe9211144a14",
   "metadata": {
    "collapsed": false,
    "ExecuteTime": {
     "end_time": "2023-08-28T23:10:24.649626Z",
     "start_time": "2023-08-28T23:10:24.616269Z"
    }
   },
   "outputs": [],
   "source": [
    "display_cols = [\n",
    "    \"company\",\n",
    "    \"model\",\n",
    "    \"car_age\",\n",
    "    \"selling_price\",\n",
    "    \"km_driven\",\n",
    "    \"seats\",\n",
    "    \"seller_type\",\n",
    "    \"fuel\",\n",
    "    \"transmission\",\n",
    "    \"owner\",\n",
    "    \"max_power_num\",\n",
    "    \"mileage_num\",\n",
    "    \"engine_vol_num\",\n",
    "    \"predicted_selling_price\",\n",
    "    \"selling_price_log_diff\",\n",
    "]"
   ]
  },
  {
   "cell_type": "code",
   "execution_count": 62,
   "id": "85600ddd9e143664",
   "metadata": {
    "collapsed": false,
    "ExecuteTime": {
     "end_time": "2023-08-28T23:10:24.684742Z",
     "start_time": "2023-08-28T23:10:24.646683Z"
    }
   },
   "outputs": [
    {
     "name": "stdout",
     "output_type": "stream",
     "text": [
      "{'company': 'Chevrolet', 'model': 'Sail 1.2 LS ABS', 'car_age': 4, 'selling_price': 400000, 'km_driven': 30000, 'seats': 5, 'seller_type': 'Individual', 'fuel': 'Petrol', 'transmission': 'Manual', 'owner': 'First Owner', 'max_power_num': 82.4000015258789, 'mileage_num': 18.200000762939453, 'engine_vol_num': 1199, 'predicted_selling_price': 427906.4207822639, 'selling_price_log_diff': 0.0674399815358484}\n"
     ]
    }
   ],
   "source": [
    "current_car = df.select(display_cols).row(row_nr, named=True)\n",
    "print(current_car)"
   ]
  },
  {
   "cell_type": "code",
   "execution_count": 63,
   "id": "ed9ea011-d3e7-4e19-bd68-cbfd4cdc6ac2",
   "metadata": {
    "ExecuteTime": {
     "end_time": "2023-08-28T23:10:24.772007Z",
     "start_time": "2023-08-28T23:10:24.684106Z"
    }
   },
   "outputs": [
    {
     "data": {
      "text/plain": "     company                    model  car_age  selling_price  km_driven  \\\n0  Chevrolet  Enjoy TCDi LTZ 7 Seater        7         300000      70000   \n1  Chevrolet      Enjoy 1.3 TCDi LS 7        4         420000      70000   \n2  Chevrolet    Sail Hatchback LS ABS        7         300000      65000   \n\n   seats seller_type    fuel transmission        owner  max_power_num  \\\n0      7  Individual  Diesel       Manual  First Owner      73.800003   \n1      7  Individual  Diesel       Manual  First Owner      73.739998   \n2      5  Individual  Diesel       Manual  First Owner      76.900002   \n\n   mileage_num  engine_vol_num  predicted_selling_price  \\\n0    18.200001            1248            334548.219941   \n1    18.200001            1248            450739.877810   \n2    22.100000            1248            354237.058219   \n\n   selling_price_log_diff  distance  same_company  better_price  \\\n0                0.108999  0.600067          True          True   \n1                0.070636  2.200823          True          True   \n2                0.166184  2.397112          True          True   \n\n   price_in_range  \n0            True  \n1            True  \n2            True  ",
      "text/html": "<div>\n<style scoped>\n    .dataframe tbody tr th:only-of-type {\n        vertical-align: middle;\n    }\n\n    .dataframe tbody tr th {\n        vertical-align: top;\n    }\n\n    .dataframe thead th {\n        text-align: right;\n    }\n</style>\n<table border=\"1\" class=\"dataframe\">\n  <thead>\n    <tr style=\"text-align: right;\">\n      <th></th>\n      <th>company</th>\n      <th>model</th>\n      <th>car_age</th>\n      <th>selling_price</th>\n      <th>km_driven</th>\n      <th>seats</th>\n      <th>seller_type</th>\n      <th>fuel</th>\n      <th>transmission</th>\n      <th>owner</th>\n      <th>max_power_num</th>\n      <th>mileage_num</th>\n      <th>engine_vol_num</th>\n      <th>predicted_selling_price</th>\n      <th>selling_price_log_diff</th>\n      <th>distance</th>\n      <th>same_company</th>\n      <th>better_price</th>\n      <th>price_in_range</th>\n    </tr>\n  </thead>\n  <tbody>\n    <tr>\n      <th>0</th>\n      <td>Chevrolet</td>\n      <td>Enjoy TCDi LTZ 7 Seater</td>\n      <td>7</td>\n      <td>300000</td>\n      <td>70000</td>\n      <td>7</td>\n      <td>Individual</td>\n      <td>Diesel</td>\n      <td>Manual</td>\n      <td>First Owner</td>\n      <td>73.800003</td>\n      <td>18.200001</td>\n      <td>1248</td>\n      <td>334548.219941</td>\n      <td>0.108999</td>\n      <td>0.600067</td>\n      <td>True</td>\n      <td>True</td>\n      <td>True</td>\n    </tr>\n    <tr>\n      <th>1</th>\n      <td>Chevrolet</td>\n      <td>Enjoy 1.3 TCDi LS 7</td>\n      <td>4</td>\n      <td>420000</td>\n      <td>70000</td>\n      <td>7</td>\n      <td>Individual</td>\n      <td>Diesel</td>\n      <td>Manual</td>\n      <td>First Owner</td>\n      <td>73.739998</td>\n      <td>18.200001</td>\n      <td>1248</td>\n      <td>450739.877810</td>\n      <td>0.070636</td>\n      <td>2.200823</td>\n      <td>True</td>\n      <td>True</td>\n      <td>True</td>\n    </tr>\n    <tr>\n      <th>2</th>\n      <td>Chevrolet</td>\n      <td>Sail Hatchback LS ABS</td>\n      <td>7</td>\n      <td>300000</td>\n      <td>65000</td>\n      <td>5</td>\n      <td>Individual</td>\n      <td>Diesel</td>\n      <td>Manual</td>\n      <td>First Owner</td>\n      <td>76.900002</td>\n      <td>22.100000</td>\n      <td>1248</td>\n      <td>354237.058219</td>\n      <td>0.166184</td>\n      <td>2.397112</td>\n      <td>True</td>\n      <td>True</td>\n      <td>True</td>\n    </tr>\n  </tbody>\n</table>\n</div>"
     },
     "execution_count": 63,
     "metadata": {},
     "output_type": "execute_result"
    }
   ],
   "source": [
    "df_recommendations = (\n",
    "    df.filter(df.with_row_count()[\"row_nr\"].is_in(recommended_items))\n",
    "    .select(display_cols)\n",
    "    .with_columns(\n",
    "        pl.Series(name=\"distance\", values=recommended_items_distances),\n",
    "        (pl.col(\"company\") == current_car[\"company\"]).alias(\"same_company\"),\n",
    "        (\n",
    "            pl.col(\"selling_price_log_diff\") > current_car[\"selling_price_log_diff\"]\n",
    "        ).alias(\"better_price\"),\n",
    "        (\n",
    "            (\n",
    "                pl.col(\"selling_price\")\n",
    "                >= current_car[\"selling_price\"] * (1 - max_price_ratio)\n",
    "            )\n",
    "            & (\n",
    "                pl.col(\"selling_price\")\n",
    "                <= current_car[\"selling_price\"] * (1 + max_price_ratio)\n",
    "            )\n",
    "        ).alias(\"price_in_range\"),\n",
    "    )\n",
    "    .sort(by=sort_by, descending=sort_by_descending)\n",
    "    .head(n_recommendations)\n",
    "    .to_pandas()\n",
    ")\n",
    "df_recommendations"
   ]
  },
  {
   "cell_type": "code",
   "execution_count": 64,
   "id": "8df5c5af-6ecd-4a7a-81b0-c8af34326356",
   "metadata": {
    "ExecuteTime": {
     "end_time": "2023-08-28T23:10:24.830986Z",
     "start_time": "2023-08-28T23:10:24.770702Z"
    }
   },
   "outputs": [],
   "source": [
    "def highlight_rows(row):\n",
    "    colors = []\n",
    "    for col in row.keys():\n",
    "        color = \"background-color: white\"\n",
    "        if col in categorical_features:\n",
    "            reco_coef = df_coefficients.filter(\n",
    "                (pl.col(\"feature\") == col) & (pl.col(\"category\") == row[col])\n",
    "            ).row(0, named=True)[\"coef\"]\n",
    "            current_coef = df_coefficients.filter(\n",
    "                (pl.col(\"feature\") == col) & (pl.col(\"category\") == current_car[col])\n",
    "            ).row(0, named=True)[\"coef\"]\n",
    "            if (reco_coef - current_coef) >= 0.05:\n",
    "                color = \"background-color: green\"\n",
    "            elif (reco_coef - current_coef) <= -0.05:\n",
    "                color = \"background-color: red\"\n",
    "        elif col in numeric_features:\n",
    "            reco_value = row[col]\n",
    "            current_value = current_car[col]\n",
    "            coef = df_coefficients.filter(pl.col(\"feature\") == col).row(0, named=True)[\n",
    "                \"coef\"\n",
    "            ]\n",
    "            if abs(coef) >= 0.05:\n",
    "                if np.sign(coef) * (reco_value - current_value) > 0:\n",
    "                    color = \"background-color: green\"\n",
    "                elif np.sign(coef) * (reco_value - current_value) < 0:\n",
    "                    color = \"background-color: red\"\n",
    "        elif col == \"selling_price\":\n",
    "            reco_price = row[col]\n",
    "            current_price = current_car[col]\n",
    "            if reco_price > current_price:\n",
    "                color = \"background-color: red\"\n",
    "            elif reco_price < current_price:\n",
    "                color = \"background-color: green\"\n",
    "        colors.append(color)\n",
    "    return colors"
   ]
  },
  {
   "cell_type": "code",
   "execution_count": 65,
   "id": "960e5ba96fa918e7",
   "metadata": {
    "collapsed": false,
    "ExecuteTime": {
     "end_time": "2023-08-28T23:10:24.927153Z",
     "start_time": "2023-08-28T23:10:24.813617Z"
    }
   },
   "outputs": [],
   "source": [
    "s = (\n",
    "    pd.concat([pd.DataFrame([current_car]), df_recommendations])\n",
    "    .reset_index()\n",
    "    .style.apply(highlight_rows, axis=1)\n",
    ")"
   ]
  },
  {
   "cell_type": "code",
   "execution_count": 66,
   "outputs": [
    {
     "data": {
      "text/plain": "<pandas.io.formats.style.Styler at 0x7fe2cffb2280>",
      "text/html": "<style type=\"text/css\">\n#T_897a7_row0_col0, #T_897a7_row0_col1, #T_897a7_row0_col2, #T_897a7_row0_col3, #T_897a7_row0_col4, #T_897a7_row0_col5, #T_897a7_row0_col6, #T_897a7_row0_col7, #T_897a7_row0_col8, #T_897a7_row0_col9, #T_897a7_row0_col10, #T_897a7_row0_col11, #T_897a7_row0_col12, #T_897a7_row0_col13, #T_897a7_row0_col14, #T_897a7_row0_col15, #T_897a7_row0_col16, #T_897a7_row0_col17, #T_897a7_row0_col18, #T_897a7_row0_col19, #T_897a7_row1_col0, #T_897a7_row1_col1, #T_897a7_row1_col2, #T_897a7_row1_col5, #T_897a7_row1_col6, #T_897a7_row1_col7, #T_897a7_row1_col9, #T_897a7_row1_col10, #T_897a7_row1_col11, #T_897a7_row1_col12, #T_897a7_row1_col14, #T_897a7_row1_col15, #T_897a7_row1_col16, #T_897a7_row1_col17, #T_897a7_row1_col18, #T_897a7_row1_col19, #T_897a7_row2_col0, #T_897a7_row2_col1, #T_897a7_row2_col2, #T_897a7_row2_col3, #T_897a7_row2_col5, #T_897a7_row2_col6, #T_897a7_row2_col7, #T_897a7_row2_col9, #T_897a7_row2_col10, #T_897a7_row2_col11, #T_897a7_row2_col12, #T_897a7_row2_col14, #T_897a7_row2_col15, #T_897a7_row2_col16, #T_897a7_row2_col17, #T_897a7_row2_col18, #T_897a7_row2_col19, #T_897a7_row3_col0, #T_897a7_row3_col1, #T_897a7_row3_col2, #T_897a7_row3_col5, #T_897a7_row3_col6, #T_897a7_row3_col7, #T_897a7_row3_col9, #T_897a7_row3_col10, #T_897a7_row3_col11, #T_897a7_row3_col14, #T_897a7_row3_col15, #T_897a7_row3_col16, #T_897a7_row3_col17, #T_897a7_row3_col18, #T_897a7_row3_col19 {\n  background-color: white;\n}\n#T_897a7_row1_col3, #T_897a7_row2_col4, #T_897a7_row3_col3 {\n  background-color: red;\n}\n#T_897a7_row1_col4, #T_897a7_row1_col8, #T_897a7_row1_col13, #T_897a7_row2_col8, #T_897a7_row2_col13, #T_897a7_row3_col4, #T_897a7_row3_col8, #T_897a7_row3_col12, #T_897a7_row3_col13 {\n  background-color: green;\n}\n</style>\n<table id=\"T_897a7\">\n  <thead>\n    <tr>\n      <th class=\"blank level0\" >&nbsp;</th>\n      <th id=\"T_897a7_level0_col0\" class=\"col_heading level0 col0\" >index</th>\n      <th id=\"T_897a7_level0_col1\" class=\"col_heading level0 col1\" >company</th>\n      <th id=\"T_897a7_level0_col2\" class=\"col_heading level0 col2\" >model</th>\n      <th id=\"T_897a7_level0_col3\" class=\"col_heading level0 col3\" >car_age</th>\n      <th id=\"T_897a7_level0_col4\" class=\"col_heading level0 col4\" >selling_price</th>\n      <th id=\"T_897a7_level0_col5\" class=\"col_heading level0 col5\" >km_driven</th>\n      <th id=\"T_897a7_level0_col6\" class=\"col_heading level0 col6\" >seats</th>\n      <th id=\"T_897a7_level0_col7\" class=\"col_heading level0 col7\" >seller_type</th>\n      <th id=\"T_897a7_level0_col8\" class=\"col_heading level0 col8\" >fuel</th>\n      <th id=\"T_897a7_level0_col9\" class=\"col_heading level0 col9\" >transmission</th>\n      <th id=\"T_897a7_level0_col10\" class=\"col_heading level0 col10\" >owner</th>\n      <th id=\"T_897a7_level0_col11\" class=\"col_heading level0 col11\" >max_power_num</th>\n      <th id=\"T_897a7_level0_col12\" class=\"col_heading level0 col12\" >mileage_num</th>\n      <th id=\"T_897a7_level0_col13\" class=\"col_heading level0 col13\" >engine_vol_num</th>\n      <th id=\"T_897a7_level0_col14\" class=\"col_heading level0 col14\" >predicted_selling_price</th>\n      <th id=\"T_897a7_level0_col15\" class=\"col_heading level0 col15\" >selling_price_log_diff</th>\n      <th id=\"T_897a7_level0_col16\" class=\"col_heading level0 col16\" >distance</th>\n      <th id=\"T_897a7_level0_col17\" class=\"col_heading level0 col17\" >same_company</th>\n      <th id=\"T_897a7_level0_col18\" class=\"col_heading level0 col18\" >better_price</th>\n      <th id=\"T_897a7_level0_col19\" class=\"col_heading level0 col19\" >price_in_range</th>\n    </tr>\n  </thead>\n  <tbody>\n    <tr>\n      <th id=\"T_897a7_level0_row0\" class=\"row_heading level0 row0\" >0</th>\n      <td id=\"T_897a7_row0_col0\" class=\"data row0 col0\" >0</td>\n      <td id=\"T_897a7_row0_col1\" class=\"data row0 col1\" >Chevrolet</td>\n      <td id=\"T_897a7_row0_col2\" class=\"data row0 col2\" >Sail 1.2 LS ABS</td>\n      <td id=\"T_897a7_row0_col3\" class=\"data row0 col3\" >4</td>\n      <td id=\"T_897a7_row0_col4\" class=\"data row0 col4\" >400000</td>\n      <td id=\"T_897a7_row0_col5\" class=\"data row0 col5\" >30000</td>\n      <td id=\"T_897a7_row0_col6\" class=\"data row0 col6\" >5</td>\n      <td id=\"T_897a7_row0_col7\" class=\"data row0 col7\" >Individual</td>\n      <td id=\"T_897a7_row0_col8\" class=\"data row0 col8\" >Petrol</td>\n      <td id=\"T_897a7_row0_col9\" class=\"data row0 col9\" >Manual</td>\n      <td id=\"T_897a7_row0_col10\" class=\"data row0 col10\" >First Owner</td>\n      <td id=\"T_897a7_row0_col11\" class=\"data row0 col11\" >82.400002</td>\n      <td id=\"T_897a7_row0_col12\" class=\"data row0 col12\" >18.200001</td>\n      <td id=\"T_897a7_row0_col13\" class=\"data row0 col13\" >1199</td>\n      <td id=\"T_897a7_row0_col14\" class=\"data row0 col14\" >427906.420782</td>\n      <td id=\"T_897a7_row0_col15\" class=\"data row0 col15\" >0.067440</td>\n      <td id=\"T_897a7_row0_col16\" class=\"data row0 col16\" >nan</td>\n      <td id=\"T_897a7_row0_col17\" class=\"data row0 col17\" >nan</td>\n      <td id=\"T_897a7_row0_col18\" class=\"data row0 col18\" >nan</td>\n      <td id=\"T_897a7_row0_col19\" class=\"data row0 col19\" >nan</td>\n    </tr>\n    <tr>\n      <th id=\"T_897a7_level0_row1\" class=\"row_heading level0 row1\" >1</th>\n      <td id=\"T_897a7_row1_col0\" class=\"data row1 col0\" >0</td>\n      <td id=\"T_897a7_row1_col1\" class=\"data row1 col1\" >Chevrolet</td>\n      <td id=\"T_897a7_row1_col2\" class=\"data row1 col2\" >Enjoy TCDi LTZ 7 Seater</td>\n      <td id=\"T_897a7_row1_col3\" class=\"data row1 col3\" >7</td>\n      <td id=\"T_897a7_row1_col4\" class=\"data row1 col4\" >300000</td>\n      <td id=\"T_897a7_row1_col5\" class=\"data row1 col5\" >70000</td>\n      <td id=\"T_897a7_row1_col6\" class=\"data row1 col6\" >7</td>\n      <td id=\"T_897a7_row1_col7\" class=\"data row1 col7\" >Individual</td>\n      <td id=\"T_897a7_row1_col8\" class=\"data row1 col8\" >Diesel</td>\n      <td id=\"T_897a7_row1_col9\" class=\"data row1 col9\" >Manual</td>\n      <td id=\"T_897a7_row1_col10\" class=\"data row1 col10\" >First Owner</td>\n      <td id=\"T_897a7_row1_col11\" class=\"data row1 col11\" >73.800003</td>\n      <td id=\"T_897a7_row1_col12\" class=\"data row1 col12\" >18.200001</td>\n      <td id=\"T_897a7_row1_col13\" class=\"data row1 col13\" >1248</td>\n      <td id=\"T_897a7_row1_col14\" class=\"data row1 col14\" >334548.219941</td>\n      <td id=\"T_897a7_row1_col15\" class=\"data row1 col15\" >0.108999</td>\n      <td id=\"T_897a7_row1_col16\" class=\"data row1 col16\" >0.600067</td>\n      <td id=\"T_897a7_row1_col17\" class=\"data row1 col17\" >True</td>\n      <td id=\"T_897a7_row1_col18\" class=\"data row1 col18\" >True</td>\n      <td id=\"T_897a7_row1_col19\" class=\"data row1 col19\" >True</td>\n    </tr>\n    <tr>\n      <th id=\"T_897a7_level0_row2\" class=\"row_heading level0 row2\" >2</th>\n      <td id=\"T_897a7_row2_col0\" class=\"data row2 col0\" >1</td>\n      <td id=\"T_897a7_row2_col1\" class=\"data row2 col1\" >Chevrolet</td>\n      <td id=\"T_897a7_row2_col2\" class=\"data row2 col2\" >Enjoy 1.3 TCDi LS 7</td>\n      <td id=\"T_897a7_row2_col3\" class=\"data row2 col3\" >4</td>\n      <td id=\"T_897a7_row2_col4\" class=\"data row2 col4\" >420000</td>\n      <td id=\"T_897a7_row2_col5\" class=\"data row2 col5\" >70000</td>\n      <td id=\"T_897a7_row2_col6\" class=\"data row2 col6\" >7</td>\n      <td id=\"T_897a7_row2_col7\" class=\"data row2 col7\" >Individual</td>\n      <td id=\"T_897a7_row2_col8\" class=\"data row2 col8\" >Diesel</td>\n      <td id=\"T_897a7_row2_col9\" class=\"data row2 col9\" >Manual</td>\n      <td id=\"T_897a7_row2_col10\" class=\"data row2 col10\" >First Owner</td>\n      <td id=\"T_897a7_row2_col11\" class=\"data row2 col11\" >73.739998</td>\n      <td id=\"T_897a7_row2_col12\" class=\"data row2 col12\" >18.200001</td>\n      <td id=\"T_897a7_row2_col13\" class=\"data row2 col13\" >1248</td>\n      <td id=\"T_897a7_row2_col14\" class=\"data row2 col14\" >450739.877810</td>\n      <td id=\"T_897a7_row2_col15\" class=\"data row2 col15\" >0.070636</td>\n      <td id=\"T_897a7_row2_col16\" class=\"data row2 col16\" >2.200823</td>\n      <td id=\"T_897a7_row2_col17\" class=\"data row2 col17\" >True</td>\n      <td id=\"T_897a7_row2_col18\" class=\"data row2 col18\" >True</td>\n      <td id=\"T_897a7_row2_col19\" class=\"data row2 col19\" >True</td>\n    </tr>\n    <tr>\n      <th id=\"T_897a7_level0_row3\" class=\"row_heading level0 row3\" >3</th>\n      <td id=\"T_897a7_row3_col0\" class=\"data row3 col0\" >2</td>\n      <td id=\"T_897a7_row3_col1\" class=\"data row3 col1\" >Chevrolet</td>\n      <td id=\"T_897a7_row3_col2\" class=\"data row3 col2\" >Sail Hatchback LS ABS</td>\n      <td id=\"T_897a7_row3_col3\" class=\"data row3 col3\" >7</td>\n      <td id=\"T_897a7_row3_col4\" class=\"data row3 col4\" >300000</td>\n      <td id=\"T_897a7_row3_col5\" class=\"data row3 col5\" >65000</td>\n      <td id=\"T_897a7_row3_col6\" class=\"data row3 col6\" >5</td>\n      <td id=\"T_897a7_row3_col7\" class=\"data row3 col7\" >Individual</td>\n      <td id=\"T_897a7_row3_col8\" class=\"data row3 col8\" >Diesel</td>\n      <td id=\"T_897a7_row3_col9\" class=\"data row3 col9\" >Manual</td>\n      <td id=\"T_897a7_row3_col10\" class=\"data row3 col10\" >First Owner</td>\n      <td id=\"T_897a7_row3_col11\" class=\"data row3 col11\" >76.900002</td>\n      <td id=\"T_897a7_row3_col12\" class=\"data row3 col12\" >22.100000</td>\n      <td id=\"T_897a7_row3_col13\" class=\"data row3 col13\" >1248</td>\n      <td id=\"T_897a7_row3_col14\" class=\"data row3 col14\" >354237.058219</td>\n      <td id=\"T_897a7_row3_col15\" class=\"data row3 col15\" >0.166184</td>\n      <td id=\"T_897a7_row3_col16\" class=\"data row3 col16\" >2.397112</td>\n      <td id=\"T_897a7_row3_col17\" class=\"data row3 col17\" >True</td>\n      <td id=\"T_897a7_row3_col18\" class=\"data row3 col18\" >True</td>\n      <td id=\"T_897a7_row3_col19\" class=\"data row3 col19\" >True</td>\n    </tr>\n  </tbody>\n</table>\n"
     },
     "execution_count": 66,
     "metadata": {},
     "output_type": "execute_result"
    }
   ],
   "source": [
    "# run in jupyter, PyCharm doesn't display HTML outputs\n",
    "s"
   ],
   "metadata": {
    "collapsed": false,
    "ExecuteTime": {
     "end_time": "2023-08-28T23:10:24.992349Z",
     "start_time": "2023-08-28T23:10:24.923639Z"
    }
   },
   "id": "d47360036190aea7"
  },
  {
   "cell_type": "markdown",
   "source": [
    "## Plans for the next iterations\n",
    "\n",
    "- Refresh the business rules for a better user experience (probably add only cars with higher predicted price, i.e. new additional features)\n",
    "- Productionize the code: \n",
    "-- create a class `CarRecommender` with a `data_loader`, `training` and `serve` methods (and others)\n",
    "-- add unittests for data loading, training on the sample data and serving the recommendations\n",
    "- Develop the client solution:\n",
    "-- updated for client data (adding more features, optimization of the nearest neighbour search etc.)\n",
    "-- separate models for each country (to reflect regional preferences) \n",
    "- Create a data pipeline:\n",
    "-- training pipeline every month (to refresh changes on the market)\n",
    "-- static recommendations in a table recomputed every day (a real-time validation will need to be developed if the recommended car gets sold or the price changes) OR create an API endpoint\n",
    "-- Apache Airflow will be used (or any other solution preferred by the client), including the alerting and validation\n",
    "- Monitoring and evaluation:\n",
    "-- Add a monitoring to check how customers interact with the recommender\n",
    "-- Run an AB test to estimate the incremental value of the recommender\n",
    "- Replace a business logic by a re-ranker\n",
    "-- Business rules might be replaced by another layer of the model which will rank the recommended items based on customers' interactions with the widget"
   ],
   "metadata": {
    "collapsed": false
   },
   "id": "93ae60b9165d2985"
  }
 ],
 "metadata": {
  "kernelspec": {
   "display_name": "Python 3 (ipykernel)",
   "language": "python",
   "name": "python3"
  },
  "language_info": {
   "codemirror_mode": {
    "name": "ipython",
    "version": 3
   },
   "file_extension": ".py",
   "mimetype": "text/x-python",
   "name": "python",
   "nbconvert_exporter": "python",
   "pygments_lexer": "ipython3",
   "version": "3.9.7"
  }
 },
 "nbformat": 4,
 "nbformat_minor": 5
}
